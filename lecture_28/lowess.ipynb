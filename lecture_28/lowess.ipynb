{
 "cells": [
  {
   "cell_type": "code",
   "execution_count": 2,
   "metadata": {},
   "outputs": [],
   "source": [
    "import numpy as np\n",
    "import matplotlib.pyplot as plt\n",
    "import statsmodels.api as sm\n",
    "lowess = sm.nonparametric.lowess"
   ]
  },
  {
   "cell_type": "code",
   "execution_count": 12,
   "metadata": {},
   "outputs": [],
   "source": [
    "X = np.random.uniform(low = -2*np.pi, high = 2*np.pi, size=100)\n",
    "y = np.sin(X) + np.random.normal(size=len(X))"
   ]
  },
  {
   "cell_type": "code",
   "execution_count": 13,
   "metadata": {},
   "outputs": [
    {
     "data": {
      "text/plain": [
       "<matplotlib.collections.PathCollection at 0x12ce83d90>"
      ]
     },
     "execution_count": 13,
     "metadata": {},
     "output_type": "execute_result"
    },
    {
     "data": {
      "image/png": "[encoded data removed]",
      "text/plain": [
       "<Figure size 432x288 with 1 Axes>"
      ]
     },
     "metadata": {
      "needs_background": "light"
     },
     "output_type": "display_data"
    }
   ],
   "source": [
    "plt.scatter(X, y)"
   ]
  },
  {
   "cell_type": "code",
   "execution_count": 43,
   "metadata": {},
   "outputs": [
    {
     "data": {
      "text/plain": [
       "(array([ 11.,  29.,  80., 215., 265., 233., 123.,  39.,   4.,   1.]),\n",
       " array([-3.22490115, -2.52373225, -1.82256336, -1.12139446, -0.42022556,\n",
       "         0.28094333,  0.98211223,  1.68328112,  2.38445002,  3.08561892,\n",
       "         3.78678781]),\n",
       " <a list of 10 Patch objects>)"
      ]
     },
     "execution_count": 43,
     "metadata": {},
     "output_type": "execute_result"
    },
    {
     "data": {
      "image/png": "[encoded data removed]",
      "text/plain": [
       "<Figure size 432x288 with 1 Axes>"
      ]
     },
     "metadata": {
      "needs_background": "light"
     },
     "output_type": "display_data"
    }
   ],
   "source": [
    "# X = np.random.uniform(low = -2*np.pi, high = 2*np.pi, size=1000)\n",
    "# X = np.linspace(-100, 100, 1000)\n",
    "# y = np.random.normal(size=len(X))\n",
    "# plt.scatter(y)\n",
    "# plt.hist(y)\n",
    "y = np.random.normal(0, 1, 1000)\n",
    "x = np.linspace(-4, 4, 1000)\n",
    "plt.scatter(x, y)\n",
    "plt.hist(y)"
   ]
  },
  {
   "cell_type": "code",
   "execution_count": 14,
   "metadata": {},
   "outputs": [
    {
     "data": {
      "text/plain": [
       "\u001b[0;31mSignature:\u001b[0m\n",
       "\u001b[0mlowess\u001b[0m\u001b[0;34m(\u001b[0m\u001b[0;34m\u001b[0m\n",
       "\u001b[0;34m\u001b[0m    \u001b[0mendog\u001b[0m\u001b[0;34m,\u001b[0m\u001b[0;34m\u001b[0m\n",
       "\u001b[0;34m\u001b[0m    \u001b[0mexog\u001b[0m\u001b[0;34m,\u001b[0m\u001b[0;34m\u001b[0m\n",
       "\u001b[0;34m\u001b[0m    \u001b[0mfrac\u001b[0m\u001b[0;34m=\u001b[0m\u001b[0;36m0.6666666666666666\u001b[0m\u001b[0;34m,\u001b[0m\u001b[0;34m\u001b[0m\n",
       "\u001b[0;34m\u001b[0m    \u001b[0mit\u001b[0m\u001b[0;34m=\u001b[0m\u001b[0;36m3\u001b[0m\u001b[0;34m,\u001b[0m\u001b[0;34m\u001b[0m\n",
       "\u001b[0;34m\u001b[0m    \u001b[0mdelta\u001b[0m\u001b[0;34m=\u001b[0m\u001b[0;36m0.0\u001b[0m\u001b[0;34m,\u001b[0m\u001b[0;34m\u001b[0m\n",
       "\u001b[0;34m\u001b[0m    \u001b[0mis_sorted\u001b[0m\u001b[0;34m=\u001b[0m\u001b[0;32mFalse\u001b[0m\u001b[0;34m,\u001b[0m\u001b[0;34m\u001b[0m\n",
       "\u001b[0;34m\u001b[0m    \u001b[0mmissing\u001b[0m\u001b[0;34m=\u001b[0m\u001b[0;34m'drop'\u001b[0m\u001b[0;34m,\u001b[0m\u001b[0;34m\u001b[0m\n",
       "\u001b[0;34m\u001b[0m    \u001b[0mreturn_sorted\u001b[0m\u001b[0;34m=\u001b[0m\u001b[0;32mTrue\u001b[0m\u001b[0;34m,\u001b[0m\u001b[0;34m\u001b[0m\n",
       "\u001b[0;34m\u001b[0m\u001b[0;34m)\u001b[0m\u001b[0;34m\u001b[0m\u001b[0;34m\u001b[0m\u001b[0m\n",
       "\u001b[0;31mDocstring:\u001b[0m\n",
       "LOWESS (Locally Weighted Scatterplot Smoothing)\n",
       "\n",
       "A lowess function that outs smoothed estimates of endog\n",
       "at the given exog values from points (exog, endog)\n",
       "\n",
       "Parameters\n",
       "----------\n",
       "endog: 1-D numpy array\n",
       "    The y-values of the observed points\n",
       "exog: 1-D numpy array\n",
       "    The x-values of the observed points\n",
       "frac: float\n",
       "    Between 0 and 1. The fraction of the data used\n",
       "    when estimating each y-value.\n",
       "it: int\n",
       "    The number of residual-based reweightings\n",
       "    to perform.\n",
       "delta: float\n",
       "    Distance within which to use linear-interpolation\n",
       "    instead of weighted regression.\n",
       "is_sorted : bool\n",
       "    If False (default), then the data will be sorted by exog before\n",
       "    calculating lowess. If True, then it is assumed that the data is\n",
       "    already sorted by exog.\n",
       "missing : str\n",
       "    Available options are 'none', 'drop', and 'raise'. If 'none', no nan\n",
       "    checking is done. If 'drop', any observations with nans are dropped.\n",
       "    If 'raise', an error is raised. Default is 'drop'.\n",
       "return_sorted : bool\n",
       "    If True (default), then the returned array is sorted by exog and has\n",
       "    missing (nan or infinite) observations removed.\n",
       "    If False, then the returned array is in the same length and the same\n",
       "    sequence of observations as the input array.\n",
       "\n",
       "Returns\n",
       "-------\n",
       "out: ndarray, float\n",
       "    The returned array is two-dimensional if return_sorted is True, and\n",
       "    one dimensional if return_sorted is False.\n",
       "    If return_sorted is True, then a numpy array with two columns. The\n",
       "    first column contains the sorted x (exog) values and the second column\n",
       "    the associated estimated y (endog) values.\n",
       "    If return_sorted is False, then only the fitted values are returned,\n",
       "    and the observations will be in the same order as the input arrays.\n",
       "\n",
       "Notes\n",
       "-----\n",
       "This lowess function implements the algorithm given in the\n",
       "reference below using local linear estimates.\n",
       "\n",
       "Suppose the input data has N points. The algorithm works by\n",
       "estimating the `smooth` y_i by taking the frac*N closest points\n",
       "to (x_i,y_i) based on their x values and estimating y_i\n",
       "using a weighted linear regression. The weight for (x_j,y_j)\n",
       "is tricube function applied to abs(x_i-x_j).\n",
       "\n",
       "If it > 1, then further weighted local linear regressions\n",
       "are performed, where the weights are the same as above\n",
       "times the _lowess_bisquare function of the residuals. Each iteration\n",
       "takes approximately the same amount of time as the original fit,\n",
       "so these iterations are expensive. They are most useful when\n",
       "the noise has extremely heavy tails, such as Cauchy noise.\n",
       "Noise with less heavy-tails, such as t-distributions with df>2,\n",
       "are less problematic. The weights downgrade the influence of\n",
       "points with large residuals. In the extreme case, points whose\n",
       "residuals are larger than 6 times the median absolute residual\n",
       "are given weight 0.\n",
       "\n",
       "`delta` can be used to save computations. For each `x_i`, regressions\n",
       "are skipped for points closer than `delta`. The next regression is\n",
       "fit for the farthest point within delta of `x_i` and all points in\n",
       "between are estimated by linearly interpolating between the two\n",
       "regression fits.\n",
       "\n",
       "Judicious choice of delta can cut computation time considerably\n",
       "for large data (N > 5000). A good choice is ``delta = 0.01 * range(exog)``.\n",
       "\n",
       "Some experimentation is likely required to find a good\n",
       "choice of `frac` and `iter` for a particular dataset.\n",
       "\n",
       "References\n",
       "----------\n",
       "Cleveland, W.S. (1979) \"Robust Locally Weighted Regression\n",
       "and Smoothing Scatterplots\". Journal of the American Statistical\n",
       "Association 74 (368): 829-836.\n",
       "\n",
       "Examples\n",
       "--------\n",
       "The below allows a comparison between how different the fits from\n",
       "lowess for different values of frac can be.\n",
       "\n",
       ">>> import numpy as np\n",
       ">>> import statsmodels.api as sm\n",
       ">>> lowess = sm.nonparametric.lowess\n",
       ">>> x = np.random.uniform(low = -2*np.pi, high = 2*np.pi, size=500)\n",
       ">>> y = np.sin(x) + np.random.normal(size=len(x))\n",
       ">>> z = lowess(y, x)\n",
       ">>> w = lowess(y, x, frac=1./3)\n",
       "\n",
       "This gives a similar comparison for when it is 0 vs not.\n",
       "\n",
       ">>> import numpy as np\n",
       ">>> import scipy.stats as stats\n",
       ">>> import statsmodels.api as sm\n",
       ">>> lowess = sm.nonparametric.lowess\n",
       ">>> x = np.random.uniform(low = -2*np.pi, high = 2*np.pi, size=500)\n",
       ">>> y = np.sin(x) + stats.cauchy.rvs(size=len(x))\n",
       ">>> z = lowess(y, x, frac= 1./3, it=0)\n",
       ">>> w = lowess(y, x, frac=1./3)\n",
       "\u001b[0;31mFile:\u001b[0m      ~/anaconda3/lib/python3.7/site-packages/statsmodels/nonparametric/smoothers_lowess.py\n",
       "\u001b[0;31mType:\u001b[0m      function\n"
      ]
     },
     "metadata": {},
     "output_type": "display_data"
    }
   ],
   "source": [
    "out = lowess(y, X, frac= 1./3, it=0)\n",
    "lowess?"
   ]
  },
  {
   "cell_type": "code",
   "execution_count": 15,
   "metadata": {},
   "outputs": [
    {
     "data": {
      "text/plain": [
       "(100, 2)"
      ]
     },
     "execution_count": 15,
     "metadata": {},
     "output_type": "execute_result"
    }
   ],
   "source": [
    "out.shape"
   ]
  },
  {
   "cell_type": "code",
   "execution_count": 18,
   "metadata": {},
   "outputs": [
    {
     "data": {
      "image/png": "[encoded data removed]",
      "text/plain": [
       "<Figure size 432x288 with 1 Axes>"
      ]
     },
     "metadata": {
      "needs_background": "light"
     },
     "output_type": "display_data"
    },
    {
     "data": {
      "text/plain": [
       "\u001b[0;31mSignature:\u001b[0m\n",
       "\u001b[0mplt\u001b[0m\u001b[0;34m.\u001b[0m\u001b[0mscatter\u001b[0m\u001b[0;34m(\u001b[0m\u001b[0;34m\u001b[0m\n",
       "\u001b[0;34m\u001b[0m    \u001b[0mx\u001b[0m\u001b[0;34m,\u001b[0m\u001b[0;34m\u001b[0m\n",
       "\u001b[0;34m\u001b[0m    \u001b[0my\u001b[0m\u001b[0;34m,\u001b[0m\u001b[0;34m\u001b[0m\n",
       "\u001b[0;34m\u001b[0m    \u001b[0ms\u001b[0m\u001b[0;34m=\u001b[0m\u001b[0;32mNone\u001b[0m\u001b[0;34m,\u001b[0m\u001b[0;34m\u001b[0m\n",
       "\u001b[0;34m\u001b[0m    \u001b[0mc\u001b[0m\u001b[0;34m=\u001b[0m\u001b[0;32mNone\u001b[0m\u001b[0;34m,\u001b[0m\u001b[0;34m\u001b[0m\n",
       "\u001b[0;34m\u001b[0m    \u001b[0mmarker\u001b[0m\u001b[0;34m=\u001b[0m\u001b[0;32mNone\u001b[0m\u001b[0;34m,\u001b[0m\u001b[0;34m\u001b[0m\n",
       "\u001b[0;34m\u001b[0m    \u001b[0mcmap\u001b[0m\u001b[0;34m=\u001b[0m\u001b[0;32mNone\u001b[0m\u001b[0;34m,\u001b[0m\u001b[0;34m\u001b[0m\n",
       "\u001b[0;34m\u001b[0m    \u001b[0mnorm\u001b[0m\u001b[0;34m=\u001b[0m\u001b[0;32mNone\u001b[0m\u001b[0;34m,\u001b[0m\u001b[0;34m\u001b[0m\n",
       "\u001b[0;34m\u001b[0m    \u001b[0mvmin\u001b[0m\u001b[0;34m=\u001b[0m\u001b[0;32mNone\u001b[0m\u001b[0;34m,\u001b[0m\u001b[0;34m\u001b[0m\n",
       "\u001b[0;34m\u001b[0m    \u001b[0mvmax\u001b[0m\u001b[0;34m=\u001b[0m\u001b[0;32mNone\u001b[0m\u001b[0;34m,\u001b[0m\u001b[0;34m\u001b[0m\n",
       "\u001b[0;34m\u001b[0m    \u001b[0malpha\u001b[0m\u001b[0;34m=\u001b[0m\u001b[0;32mNone\u001b[0m\u001b[0;34m,\u001b[0m\u001b[0;34m\u001b[0m\n",
       "\u001b[0;34m\u001b[0m    \u001b[0mlinewidths\u001b[0m\u001b[0;34m=\u001b[0m\u001b[0;32mNone\u001b[0m\u001b[0;34m,\u001b[0m\u001b[0;34m\u001b[0m\n",
       "\u001b[0;34m\u001b[0m    \u001b[0mverts\u001b[0m\u001b[0;34m=\u001b[0m\u001b[0;32mNone\u001b[0m\u001b[0;34m,\u001b[0m\u001b[0;34m\u001b[0m\n",
       "\u001b[0;34m\u001b[0m    \u001b[0medgecolors\u001b[0m\u001b[0;34m=\u001b[0m\u001b[0;32mNone\u001b[0m\u001b[0;34m,\u001b[0m\u001b[0;34m\u001b[0m\n",
       "\u001b[0;34m\u001b[0m    \u001b[0;34m*\u001b[0m\u001b[0;34m,\u001b[0m\u001b[0;34m\u001b[0m\n",
       "\u001b[0;34m\u001b[0m    \u001b[0mplotnonfinite\u001b[0m\u001b[0;34m=\u001b[0m\u001b[0;32mFalse\u001b[0m\u001b[0;34m,\u001b[0m\u001b[0;34m\u001b[0m\n",
       "\u001b[0;34m\u001b[0m    \u001b[0mdata\u001b[0m\u001b[0;34m=\u001b[0m\u001b[0;32mNone\u001b[0m\u001b[0;34m,\u001b[0m\u001b[0;34m\u001b[0m\n",
       "\u001b[0;34m\u001b[0m    \u001b[0;34m**\u001b[0m\u001b[0mkwargs\u001b[0m\u001b[0;34m,\u001b[0m\u001b[0;34m\u001b[0m\n",
       "\u001b[0;34m\u001b[0m\u001b[0;34m)\u001b[0m\u001b[0;34m\u001b[0m\u001b[0;34m\u001b[0m\u001b[0m\n",
       "\u001b[0;31mDocstring:\u001b[0m\n",
       "A scatter plot of *y* vs *x* with varying marker size and/or color.\n",
       "\n",
       "Parameters\n",
       "----------\n",
       "x, y : array_like, shape (n, )\n",
       "    The data positions.\n",
       "\n",
       "s : scalar or array_like, shape (n, ), optional\n",
       "    The marker size in points**2.\n",
       "    Default is ``rcParams['lines.markersize'] ** 2``.\n",
       "\n",
       "c : color, sequence, or sequence of color, optional\n",
       "    The marker color. Possible values:\n",
       "\n",
       "    - A single color format string.\n",
       "    - A sequence of color specifications of length n.\n",
       "    - A sequence of n numbers to be mapped to colors using *cmap* and\n",
       "      *norm*.\n",
       "    - A 2-D array in which the rows are RGB or RGBA.\n",
       "\n",
       "    Note that *c* should not be a single numeric RGB or RGBA sequence\n",
       "    because that is indistinguishable from an array of values to be\n",
       "    colormapped. If you want to specify the same RGB or RGBA value for\n",
       "    all points, use a 2-D array with a single row.  Otherwise, value-\n",
       "    matching will have precedence in case of a size matching with *x*\n",
       "    and *y*.\n",
       "\n",
       "    Defaults to ``None``. In that case the marker color is determined\n",
       "    by the value of ``color``, ``facecolor`` or ``facecolors``. In case\n",
       "    those are not specified or ``None``, the marker color is determined\n",
       "    by the next color of the ``Axes``' current \"shape and fill\" color\n",
       "    cycle. This cycle defaults to :rc:`axes.prop_cycle`.\n",
       "\n",
       "marker : `~matplotlib.markers.MarkerStyle`, optional\n",
       "    The marker style. *marker* can be either an instance of the class\n",
       "    or the text shorthand for a particular marker.\n",
       "    Defaults to ``None``, in which case it takes the value of\n",
       "    :rc:`scatter.marker` = 'o'.\n",
       "    See `~matplotlib.markers` for more information about marker styles.\n",
       "\n",
       "cmap : `~matplotlib.colors.Colormap`, optional, default: None\n",
       "    A `.Colormap` instance or registered colormap name. *cmap* is only\n",
       "    used if *c* is an array of floats. If ``None``, defaults to rc\n",
       "    ``image.cmap``.\n",
       "\n",
       "norm : `~matplotlib.colors.Normalize`, optional, default: None\n",
       "    A `.Normalize` instance is used to scale luminance data to 0, 1.\n",
       "    *norm* is only used if *c* is an array of floats. If *None*, use\n",
       "    the default `.colors.Normalize`.\n",
       "\n",
       "vmin, vmax : scalar, optional, default: None\n",
       "    *vmin* and *vmax* are used in conjunction with *norm* to normalize\n",
       "    luminance data. If None, the respective min and max of the color\n",
       "    array is used. *vmin* and *vmax* are ignored if you pass a *norm*\n",
       "    instance.\n",
       "\n",
       "alpha : scalar, optional, default: None\n",
       "    The alpha blending value, between 0 (transparent) and 1 (opaque).\n",
       "\n",
       "linewidths : scalar or array_like, optional, default: None\n",
       "    The linewidth of the marker edges. Note: The default *edgecolors*\n",
       "    is 'face'. You may want to change this as well.\n",
       "    If *None*, defaults to rcParams ``lines.linewidth``.\n",
       "\n",
       "edgecolors : {'face', 'none', *None*} or color or sequence of color, optional.\n",
       "    The edge color of the marker. Possible values:\n",
       "\n",
       "    - 'face': The edge color will always be the same as the face color.\n",
       "    - 'none': No patch boundary will be drawn.\n",
       "    - A Matplotlib color or sequence of color.\n",
       "\n",
       "    Defaults to ``None``, in which case it takes the value of\n",
       "    :rc:`scatter.edgecolors` = 'face'.\n",
       "\n",
       "    For non-filled markers, the *edgecolors* kwarg is ignored and\n",
       "    forced to 'face' internally.\n",
       "\n",
       "plotnonfinite : boolean, optional, default: False\n",
       "    Set to plot points with nonfinite *c*, in conjunction with\n",
       "    `~matplotlib.colors.Colormap.set_bad`.\n",
       "\n",
       "Returns\n",
       "-------\n",
       "paths : `~matplotlib.collections.PathCollection`\n",
       "\n",
       "Other Parameters\n",
       "----------------\n",
       "**kwargs : `~matplotlib.collections.Collection` properties\n",
       "\n",
       "See Also\n",
       "--------\n",
       "plot : To plot scatter plots when markers are identical in size and\n",
       "    color.\n",
       "\n",
       "Notes\n",
       "-----\n",
       "\n",
       "* The `.plot` function will be faster for scatterplots where markers\n",
       "  don't vary in size or color.\n",
       "\n",
       "* Any or all of *x*, *y*, *s*, and *c* may be masked arrays, in which\n",
       "  case all masks will be combined and only unmasked points will be\n",
       "  plotted.\n",
       "\n",
       "* Fundamentally, scatter works with 1-D arrays; *x*, *y*, *s*, and *c*\n",
       "  may be input as 2-D arrays, but within scatter they will be\n",
       "  flattened. The exception is *c*, which will be flattened only if its\n",
       "  size matches the size of *x* and *y*.\n",
       "\n",
       ".. note::\n",
       "    In addition to the above described arguments, this function can take a\n",
       "    **data** keyword argument. If such a **data** argument is given, the\n",
       "    following arguments are replaced by **data[<arg>]**:\n",
       "\n",
       "    * All arguments with the following names: 'c', 'color', 'edgecolors', 'facecolor', 'facecolors', 'linewidths', 's', 'x', 'y'.\n",
       "\n",
       "    Objects passed as **data** must support item access (``data[<arg>]``) and\n",
       "    membership test (``<arg> in data``).\n",
       "\u001b[0;31mFile:\u001b[0m      ~/anaconda3/lib/python3.7/site-packages/matplotlib/pyplot.py\n",
       "\u001b[0;31mType:\u001b[0m      function\n"
      ]
     },
     "metadata": {},
     "output_type": "display_data"
    }
   ],
   "source": [
    "plt.scatter(out[:, 0], out[:, 1], s=1)\n",
    "plt.scatter(X, y)\n",
    "plt.scatter?"
   ]
  },
  {
   "cell_type": "code",
   "execution_count": 25,
   "metadata": {},
   "outputs": [],
   "source": [
    "from scipy.interpolate import CubicSpline"
   ]
  },
  {
   "cell_type": "code",
   "execution_count": 28,
   "metadata": {},
   "outputs": [],
   "source": [
    "inter = CubicSpline(out[:, 0], out[:, 1])"
   ]
  },
  {
   "cell_type": "code",
   "execution_count": 34,
   "metadata": {},
   "outputs": [],
   "source": [
    "x_gen = np.linspace(-6, 6, 100)\n",
    "y_gen = inter(x_gen)"
   ]
  },
  {
   "cell_type": "code",
   "execution_count": 37,
   "metadata": {},
   "outputs": [
    {
     "data": {
      "text/plain": [
       "[<matplotlib.lines.Line2D at 0x1c22e9c978>]"
      ]
     },
     "execution_count": 37,
     "metadata": {},
     "output_type": "execute_result"
    },
    {
     "data": {
      "image/png": "[encoded data removed]",
      "text/plain": [
       "<Figure size 432x288 with 1 Axes>"
      ]
     },
     "metadata": {
      "needs_background": "light"
     },
     "output_type": "display_data"
    }
   ],
   "source": [
    "\n",
    "plt.scatter(X, y)\n",
    "plt.plot(x_gen, y_gen)"
   ]
  },
  {
   "cell_type": "code",
   "execution_count": null,
   "metadata": {},
   "outputs": [],
   "source": []
  }
 ],
 "metadata": {
  "kernelspec": {
   "display_name": "Python 3",
   "language": "python",
   "name": "python3"
  },
  "language_info": {
   "codemirror_mode": {
    "name": "ipython",
    "version": 3
   },
   "file_extension": ".py",
   "mimetype": "text/x-python",
   "name": "python",
   "nbconvert_exporter": "python",
   "pygments_lexer": "ipython3",
   "version": "3.7.4"
  }
 },
 "nbformat": 4,
 "nbformat_minor": 4
}
