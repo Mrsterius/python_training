{
 "cells": [
  {
   "cell_type": "code",
   "execution_count": 17,
   "metadata": {},
   "outputs": [],
   "source": [
    "class Engine:\n",
    "    \n",
    "    def __init__(self):\n",
    "        self.__cycle = 5\n",
    "    def start(self):\n",
    "        if self.__cycle > 0:\n",
    "            print(\"Start like generic engine\")\n",
    "            self.__cycle -= 1\n",
    "        else:\n",
    "            print(\"Cannot start engine\")\n",
    "    \n",
    "    def stop(self):\n",
    "        print(\"Stop like generic engine\")"
   ]
  },
  {
   "cell_type": "code",
   "execution_count": 18,
   "metadata": {},
   "outputs": [],
   "source": [
    "class Steering:\n",
    "    \n",
    "    def left(self):\n",
    "        print(\"Turn left like generic steering\")\n",
    "    \n",
    "    def right(self):\n",
    "        print(\"Turn right like generic steering\")"
   ]
  },
  {
   "cell_type": "code",
   "execution_count": 19,
   "metadata": {},
   "outputs": [],
   "source": [
    "class MusicPlayer:\n",
    "    \n",
    "    def start(self):\n",
    "        print(\"Music player turned on\")\n",
    "    \n",
    "    def stop(self):\n",
    "        print(\"Music player turned off\")"
   ]
  },
  {
   "cell_type": "code",
   "execution_count": 20,
   "metadata": {},
   "outputs": [],
   "source": [
    "class Car:\n",
    "    def __init__(self):\n",
    "        self.__engine = Engine()\n",
    "        self.__steering = Steering()\n",
    "        self.__musicPlayer = MusicPlayer()\n",
    "        \n",
    "    def start(self):\n",
    "        self.__engine.start()\n",
    "        self.__musicPlayer.start()\n",
    "    \n",
    "    def stop(self):\n",
    "        self.__musicPlayer.stop()\n",
    "        self.__engine.stop()"
   ]
  },
  {
   "cell_type": "code",
   "execution_count": 21,
   "metadata": {},
   "outputs": [],
   "source": [
    "lambhorgini = Car()"
   ]
  },
  {
   "cell_type": "code",
   "execution_count": 27,
   "metadata": {},
   "outputs": [
    {
     "name": "stdout",
     "output_type": "stream",
     "text": [
      "Cannot start engine\n",
      "Music player turned on\n"
     ]
    }
   ],
   "source": [
    "lambhorgini.start()"
   ]
  },
  {
   "cell_type": "code",
   "execution_count": 10,
   "metadata": {},
   "outputs": [
    {
     "name": "stdout",
     "output_type": "stream",
     "text": [
      "Music player turned off\n",
      "Stop like generic engine\n"
     ]
    }
   ],
   "source": [
    "lambhorgini.stop()"
   ]
  },
  {
   "cell_type": "code",
   "execution_count": null,
   "metadata": {},
   "outputs": [],
   "source": []
  }
 ],
 "metadata": {
  "kernelspec": {
   "display_name": "Python 3",
   "language": "python",
   "name": "python3"
  },
  "language_info": {
   "codemirror_mode": {
    "name": "ipython",
    "version": 3
   },
   "file_extension": ".py",
   "mimetype": "text/x-python",
   "name": "python",
   "nbconvert_exporter": "python",
   "pygments_lexer": "ipython3",
   "version": "3.7.4"
  }
 },
 "nbformat": 4,
 "nbformat_minor": 4
}
