{
 "cells": [
  {
   "cell_type": "code",
   "execution_count": 4,
   "metadata": {},
   "outputs": [],
   "source": [
    "class Engine:\n",
    "    \n",
    "    def start(self):\n",
    "        print(\"Start like generic engine\")\n",
    "        \n",
    "    \n",
    "    def stop(self):\n",
    "        print(\"Stop like generic engine\")"
   ]
  },
  {
   "cell_type": "code",
   "execution_count": 5,
   "metadata": {},
   "outputs": [],
   "source": [
    "class NitroEngine(Engine):\n",
    "    \n",
    "    def start(self):\n",
    "        print(\"Start like Nitro engine\")\n",
    "        \n",
    "    \n",
    "    def stop(self):\n",
    "        print(\"Stop like Nitro engine\")"
   ]
  },
  {
   "cell_type": "code",
   "execution_count": 6,
   "metadata": {},
   "outputs": [],
   "source": [
    "class Steering:\n",
    "    \n",
    "    def left(self):\n",
    "        print(\"Turn left like generic steering\")\n",
    "    \n",
    "    def right(self):\n",
    "        print(\"Turn right like generic steering\")"
   ]
  },
  {
   "cell_type": "code",
   "execution_count": 7,
   "metadata": {},
   "outputs": [],
   "source": [
    "class MusicPlayer:\n",
    "    \n",
    "    def start(self):\n",
    "        print(\"Music player turned on\")\n",
    "    \n",
    "    def stop(self):\n",
    "        print(\"Music player turned off\")"
   ]
  },
  {
   "cell_type": "code",
   "execution_count": 11,
   "metadata": {},
   "outputs": [],
   "source": [
    "class Car:\n",
    "    def __init__(self):\n",
    "        self.__engine = Engine()\n",
    "        self.__steering = Steering()\n",
    "        self.__musicPlayer = MusicPlayer()\n",
    "        \n",
    "    def start(self):\n",
    "        self.__engine.start()\n",
    "        self.__musicPlayer.start()\n",
    "    \n",
    "    def stop(self):\n",
    "        self.__musicPlayer.stop()\n",
    "        self.__engine.stop()\n",
    "        \n",
    "    def changeEngine(self, engine = None):\n",
    "        if engine:\n",
    "            self.__engine = engine\n",
    "        else:\n",
    "            self.__engine = Engine()"
   ]
  },
  {
   "cell_type": "code",
   "execution_count": 12,
   "metadata": {},
   "outputs": [],
   "source": [
    "lambhorgini = Car()"
   ]
  },
  {
   "cell_type": "code",
   "execution_count": 13,
   "metadata": {},
   "outputs": [
    {
     "name": "stdout",
     "output_type": "stream",
     "text": [
      "Start like generic engine\n",
      "Music player turned on\n"
     ]
    }
   ],
   "source": [
    "lambhorgini.start()"
   ]
  },
  {
   "cell_type": "code",
   "execution_count": 14,
   "metadata": {},
   "outputs": [
    {
     "name": "stdout",
     "output_type": "stream",
     "text": [
      "Music player turned off\n",
      "Stop like generic engine\n"
     ]
    }
   ],
   "source": [
    "lambhorgini.stop()"
   ]
  },
  {
   "cell_type": "code",
   "execution_count": 15,
   "metadata": {},
   "outputs": [],
   "source": [
    "nitro1 = NitroEngine()\n",
    "lambhorgini.changeEngine(nitro1)"
   ]
  },
  {
   "cell_type": "code",
   "execution_count": 17,
   "metadata": {},
   "outputs": [
    {
     "name": "stdout",
     "output_type": "stream",
     "text": [
      "Start like Nitro engine\n",
      "Music player turned on\n"
     ]
    }
   ],
   "source": [
    "lambhorgini.start()"
   ]
  }
 ],
 "metadata": {
  "kernelspec": {
   "display_name": "Python 3",
   "language": "python",
   "name": "python3"
  },
  "language_info": {
   "codemirror_mode": {
    "name": "ipython",
    "version": 3
   },
   "file_extension": ".py",
   "mimetype": "text/x-python",
   "name": "python",
   "nbconvert_exporter": "python",
   "pygments_lexer": "ipython3",
   "version": "3.7.4"
  }
 },
 "nbformat": 4,
 "nbformat_minor": 4
}
