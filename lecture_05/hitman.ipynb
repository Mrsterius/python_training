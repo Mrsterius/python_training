{
 "cells": [
  {
   "cell_type": "code",
   "execution_count": 226,
   "metadata": {},
   "outputs": [],
   "source": [
    "class Human:\n",
    "    population = 0\n",
    "    total_id = 0\n",
    "    aadhar = {}\n",
    "    #Static variables\n",
    "    def __init__(self, name=\"bachha\", age=0):\n",
    "        self.id = Human.total_id\n",
    "        self.name = name\n",
    "        self.age = age\n",
    "        self.alive = True\n",
    "        Human.population += 1\n",
    "        Human.total_id += 1\n",
    "        Human.aadhar[self.id] = self\n",
    "        #Class variables\n",
    "   \n",
    "    def die(self):\n",
    "        self.alive = False\n",
    "        Human.population -= 1\n",
    "        \n",
    "    @classmethod\n",
    "    def genesis(cls):\n",
    "        cls.population = 0\n",
    "        cls.total_id = 0\n",
    "        for item in cls.listing:\n",
    "            item.alive = False\n",
    "            \n",
    "    def __repr__(self):\n",
    "        return (\"ID : {}, Name: {}, age : {}, alive : {}\").format(self.id, self.name, self.age, self.alive)"
   ]
  },
  {
   "cell_type": "code",
   "execution_count": 227,
   "metadata": {},
   "outputs": [],
   "source": [
    "class Hitman(Human):\n",
    "    \n",
    "    total_kills = 0\n",
    "    def __init__(self, name = \"hitter\", age = 0):\n",
    "        super().__init__(name, age)\n",
    "        self.kills = 0\n",
    "    def shoot(self, person):\n",
    "        if not self.alive:\n",
    "            print(\"Hitman is already dead\")\n",
    "        elif self == person:\n",
    "            print(\"Suicide is a bad thing\")\n",
    "        elif not person.alive:\n",
    "            print(\"Target is already dead\")\n",
    "        else:\n",
    "            person.die()\n",
    "            self.kills += 1\n",
    "            Hitman.total_kills += 1\n",
    "    def shoot_id(self, idx):\n",
    "        if not self.alive:\n",
    "            print(\"Hitman is already dead\")\n",
    "        elif idx in Human.aadhar:\n",
    "            Human.aadhar[idx].die()\n",
    "            self.kills += 1\n",
    "            Hitman.total_kills += 1\n",
    "        else:\n",
    "            print(\"Wrong id\")"
   ]
  },
  {
   "cell_type": "code",
   "execution_count": 215,
   "metadata": {},
   "outputs": [],
   "source": [
    "james = Hitman(\"James\")"
   ]
  },
  {
   "cell_type": "code",
   "execution_count": 216,
   "metadata": {},
   "outputs": [
    {
     "data": {
      "text/plain": [
       "0"
      ]
     },
     "execution_count": 216,
     "metadata": {},
     "output_type": "execute_result"
    }
   ],
   "source": [
    "james.age"
   ]
  },
  {
   "cell_type": "code",
   "execution_count": 217,
   "metadata": {},
   "outputs": [
    {
     "data": {
      "text/plain": [
       "2"
      ]
     },
     "execution_count": 217,
     "metadata": {},
     "output_type": "execute_result"
    }
   ],
   "source": [
    "Human.population"
   ]
  },
  {
   "cell_type": "code",
   "execution_count": 218,
   "metadata": {},
   "outputs": [],
   "source": [
    "ravi = Human(\"Ravi\")"
   ]
  },
  {
   "cell_type": "code",
   "execution_count": 219,
   "metadata": {},
   "outputs": [
    {
     "data": {
      "text/plain": [
       "3"
      ]
     },
     "execution_count": 219,
     "metadata": {},
     "output_type": "execute_result"
    }
   ],
   "source": [
    "ravi.id"
   ]
  },
  {
   "cell_type": "code",
   "execution_count": 220,
   "metadata": {},
   "outputs": [
    {
     "data": {
      "text/plain": [
       "1"
      ]
     },
     "execution_count": 220,
     "metadata": {},
     "output_type": "execute_result"
    }
   ],
   "source": [
    "Human.listing[1].id"
   ]
  },
  {
   "cell_type": "code",
   "execution_count": 221,
   "metadata": {},
   "outputs": [
    {
     "data": {
      "text/plain": [
       "True"
      ]
     },
     "execution_count": 221,
     "metadata": {},
     "output_type": "execute_result"
    }
   ],
   "source": [
    "ravi.alive"
   ]
  },
  {
   "cell_type": "code",
   "execution_count": 224,
   "metadata": {},
   "outputs": [],
   "source": [
    "james.shoot_id(3)"
   ]
  },
  {
   "cell_type": "code",
   "execution_count": 225,
   "metadata": {},
   "outputs": [
    {
     "data": {
      "text/plain": [
       "False"
      ]
     },
     "execution_count": 225,
     "metadata": {},
     "output_type": "execute_result"
    }
   ],
   "source": [
    "ravi.alive"
   ]
  },
  {
   "cell_type": "code",
   "execution_count": 179,
   "metadata": {},
   "outputs": [
    {
     "data": {
      "text/plain": [
       "0"
      ]
     },
     "execution_count": 179,
     "metadata": {},
     "output_type": "execute_result"
    }
   ],
   "source": [
    "Hitman.total_kills"
   ]
  },
  {
   "cell_type": "code",
   "execution_count": 180,
   "metadata": {},
   "outputs": [
    {
     "data": {
      "text/plain": [
       "[ID : 0, Name: James, age : 0, alive : True,\n",
       " ID : 1, Name: Ravi, age : 0, alive : True,\n",
       " ID : 2, Name: James, age : 0, alive : True,\n",
       " ID : 3, Name: Ravi, age : 0, alive : True]"
      ]
     },
     "execution_count": 180,
     "metadata": {},
     "output_type": "execute_result"
    }
   ],
   "source": [
    "Human.listing"
   ]
  },
  {
   "cell_type": "code",
   "execution_count": 78,
   "metadata": {},
   "outputs": [],
   "source": [
    "james = Hitman(\"James\", 35)\n",
    "teza = Hitman(\"Teza\", 30)\n",
    "mohit = Human(\"Mohit\")\n",
    "ravi = Human(\"Ravi\")"
   ]
  },
  {
   "cell_type": "code",
   "execution_count": 79,
   "metadata": {},
   "outputs": [
    {
     "name": "stdout",
     "output_type": "stream",
     "text": [
      "Suicide is a bad thing\n"
     ]
    }
   ],
   "source": [
    "james.shoot(james)"
   ]
  },
  {
   "cell_type": "code",
   "execution_count": 80,
   "metadata": {},
   "outputs": [],
   "source": [
    "james.shoot(teza)"
   ]
  },
  {
   "cell_type": "code",
   "execution_count": 81,
   "metadata": {},
   "outputs": [
    {
     "data": {
      "text/plain": [
       "1"
      ]
     },
     "execution_count": 81,
     "metadata": {},
     "output_type": "execute_result"
    }
   ],
   "source": [
    "james.kills"
   ]
  },
  {
   "cell_type": "code",
   "execution_count": 82,
   "metadata": {},
   "outputs": [
    {
     "name": "stdout",
     "output_type": "stream",
     "text": [
      "Hitman is already dead\n"
     ]
    }
   ],
   "source": [
    "teza.shoot(james)"
   ]
  },
  {
   "cell_type": "code",
   "execution_count": 84,
   "metadata": {},
   "outputs": [
    {
     "data": {
      "text/plain": [
       "[Name: James, age : 0, alive : True,\n",
       " Name: Ravi, age : 0, alive : False,\n",
       " Name: James, age : 35, alive : True,\n",
       " Name: Teza, age : 30, alive : False,\n",
       " Name: Mohit, age : 0, alive : True,\n",
       " Name: Ravi, age : 0, alive : True]"
      ]
     },
     "execution_count": 84,
     "metadata": {},
     "output_type": "execute_result"
    }
   ],
   "source": [
    "Human.listing"
   ]
  },
  {
   "cell_type": "code",
   "execution_count": null,
   "metadata": {},
   "outputs": [],
   "source": []
  }
 ],
 "metadata": {
  "kernelspec": {
   "display_name": "Python 3",
   "language": "python",
   "name": "python3"
  },
  "language_info": {
   "codemirror_mode": {
    "name": "ipython",
    "version": 3
   },
   "file_extension": ".py",
   "mimetype": "text/x-python",
   "name": "python",
   "nbconvert_exporter": "python",
   "pygments_lexer": "ipython3",
   "version": "3.7.4"
  }
 },
 "nbformat": 4,
 "nbformat_minor": 4
}
