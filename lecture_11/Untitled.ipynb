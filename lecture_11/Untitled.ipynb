{
 "cells": [
  {
   "cell_type": "code",
   "execution_count": 1,
   "metadata": {},
   "outputs": [
    {
     "name": "stdout",
     "output_type": "stream",
     "text": [
      "Collecting pymessenger==0.0.7.0\n",
      "  Downloading https://files.pythonhosted.org/packages/b2/c1/5f5d90ace6b58d7abb4c7c15e623c6b73807b72359bb918bd4aa2c4bcc06/pymessenger-0.0.7.0.tar.gz\n",
      "Requirement already satisfied: requests in /Users/himanshuhansaria/anaconda3/lib/python3.7/site-packages (from pymessenger==0.0.7.0) (2.22.0)\n",
      "Collecting requests-toolbelt (from pymessenger==0.0.7.0)\n",
      "\u001b[?25l  Downloading https://files.pythonhosted.org/packages/60/ef/7681134338fc097acef8d9b2f8abe0458e4d87559c689a8c306d0957ece5/requests_toolbelt-0.9.1-py2.py3-none-any.whl (54kB)\n",
      "\u001b[K     |████████████████████████████████| 61kB 266kB/s eta 0:00:01\n",
      "\u001b[?25hRequirement already satisfied: six in /Users/himanshuhansaria/anaconda3/lib/python3.7/site-packages (from pymessenger==0.0.7.0) (1.12.0)\n",
      "Requirement already satisfied: urllib3!=1.25.0,!=1.25.1,<1.26,>=1.21.1 in /Users/himanshuhansaria/anaconda3/lib/python3.7/site-packages (from requests->pymessenger==0.0.7.0) (1.24.2)\n",
      "Requirement already satisfied: idna<2.9,>=2.5 in /Users/himanshuhansaria/anaconda3/lib/python3.7/site-packages (from requests->pymessenger==0.0.7.0) (2.8)\n",
      "Requirement already satisfied: chardet<3.1.0,>=3.0.2 in /Users/himanshuhansaria/anaconda3/lib/python3.7/site-packages (from requests->pymessenger==0.0.7.0) (3.0.4)\n",
      "Requirement already satisfied: certifi>=2017.4.17 in /Users/himanshuhansaria/anaconda3/lib/python3.7/site-packages (from requests->pymessenger==0.0.7.0) (2019.9.11)\n",
      "Building wheels for collected packages: pymessenger\n",
      "  Building wheel for pymessenger (setup.py) ... \u001b[?25ldone\n",
      "\u001b[?25h  Created wheel for pymessenger: filename=pymessenger-0.0.7.0-cp37-none-any.whl size=5128 sha256=f9c2ed56af1c6f4945ded9dc5fc5d30e2e1ddaff8a43ba04eb6de7c463b1410c\n",
      "  Stored in directory: /Users/himanshuhansaria/Library/Caches/pip/wheels/c6/9c/3f/e80f9c154beb0cc35b9be689c9ac2f69c6a6b31d95e79dae1f\n",
      "Successfully built pymessenger\n",
      "Installing collected packages: requests-toolbelt, pymessenger\n",
      "Successfully installed pymessenger-0.0.7.0 requests-toolbelt-0.9.1\n"
     ]
    }
   ],
   "source": [
    "!pip install pymessenger==0.0.7.0"
   ]
  },
  {
   "cell_type": "code",
   "execution_count": null,
   "metadata": {},
   "outputs": [],
   "source": []
  }
 ],
 "metadata": {
  "kernelspec": {
   "display_name": "Python 3",
   "language": "python",
   "name": "python3"
  },
  "language_info": {
   "codemirror_mode": {
    "name": "ipython",
    "version": 3
   },
   "file_extension": ".py",
   "mimetype": "text/x-python",
   "name": "python",
   "nbconvert_exporter": "python",
   "pygments_lexer": "ipython3",
   "version": "3.7.4"
  }
 },
 "nbformat": 4,
 "nbformat_minor": 4
}
