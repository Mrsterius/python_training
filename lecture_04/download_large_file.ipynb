{
 "cells": [
  {
   "cell_type": "code",
   "execution_count": null,
   "metadata": {},
   "outputs": [],
   "source": [
    "import requests\n",
    "import math\n",
    "import tqdm\n",
    "\n",
    "url = input(\"Enter url :\")\n",
    "r = requests.get(url, stream = True)\n",
    "chunk_size = 256\n",
    "n = math.ceil(int(r.headers['Content-Length'])/ chunk_size)\n",
    "with open(\"large.pdf\", \"wb\") as file:\n",
    "    for chunk in tqdm.tqdm(r.iter_content)"
   ]
  },
  {
   "cell_type": "raw",
   "metadata": {},
   "source": [
    "r.iter_content()?"
   ]
  },
  {
   "cell_type": "code",
   "execution_count": null,
   "metadata": {},
   "outputs": [],
   "source": []
  }
 ],
 "metadata": {
  "kernelspec": {
   "display_name": "Python 3",
   "language": "python",
   "name": "python3"
  },
  "language_info": {
   "codemirror_mode": {
    "name": "ipython",
    "version": 3
   },
   "file_extension": ".py",
   "mimetype": "text/x-python",
   "name": "python",
   "nbconvert_exporter": "python",
   "pygments_lexer": "ipython3",
   "version": "3.7.4"
  }
 },
 "nbformat": 4,
 "nbformat_minor": 4
}
