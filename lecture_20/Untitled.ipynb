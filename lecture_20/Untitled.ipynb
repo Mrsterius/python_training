{
 "cells": [
  {
   "cell_type": "code",
   "execution_count": 1,
   "metadata": {},
   "outputs": [],
   "source": [
    "class Node:\n",
    "    \n",
    "    def __init__(self, value, left=None, right=None):\n",
    "        self.value = value\n",
    "        self.left = left\n",
    "        self.right = right"
   ]
  },
  {
   "cell_type": "code",
   "execution_count": 114,
   "metadata": {},
   "outputs": [],
   "source": [
    "class BST:\n",
    "    \n",
    "    def __init__(self):\n",
    "        self.root = None\n",
    "    \n",
    "    def add(self, value):\n",
    "        self.root = self.__add(value, self.root)\n",
    "        \n",
    "    def __add(self, value, node):\n",
    "        \n",
    "        if node == None:\n",
    "            node = Node(value)\n",
    "        else:\n",
    "            if node.value > value:\n",
    "                node.left = self.__add(value, node.left)\n",
    "            if node.value < value:\n",
    "                node.right = self.__add(value, node.right)\n",
    "        return node\n",
    "    \n",
    "    def contains(self, value):\n",
    "        return self.__contains(value, self.root)\n",
    "    def __contains(self, value, node):\n",
    "        \n",
    "        if node == None:\n",
    "            return False\n",
    "        \n",
    "        if node.value == value:\n",
    "            return True\n",
    "        \n",
    "        if value < node.value:\n",
    "            return self.__contains(value, node.left)\n",
    "        elif value > node.value:\n",
    "            return self.__contains(value, node.right)\n",
    "    \n",
    "    def display(self):\n",
    "        self.__display(self.root)\n",
    "        \n",
    "    def __display(self, node, indent=\"\", position=\"root\"):\n",
    "        if node == None:\n",
    "            return\n",
    "        \n",
    "        print(indent, node.value, position)\n",
    "        self.__display(node.left, indent+'\\t', \"left\")\n",
    "        self.__display(node.right, indent+'\\t', \"right\")\n",
    "\n",
    "    def height(self):\n",
    "        return self.__height(self.root)\n",
    "    \n",
    "    def __height(self, node):\n",
    "        \n",
    "        if node == None:\n",
    "            return 0\n",
    "        left = self.__height(node.left)\n",
    "        right = self.__height(node.right)\n",
    "        \n",
    "        return max(left, right) + 1\n",
    "    \n",
    "    def balance_c(self):\n",
    "        return self.__balance_c(self.root)\n",
    "    \n",
    "    def __balance_c(self, node):\n",
    "        \n",
    "        if node == None:\n",
    "            return 0\n",
    "        \n",
    "        left = self.__height(node.left)\n",
    "        right = self.__height(node.right)\n",
    "        \n",
    "        return left - right\n",
    "        \n",
    "    def sum(self):\n",
    "        return self.__sum(self.root)\n",
    "    \n",
    "    def __sum(self, node):\n",
    "        \n",
    "        if node == None:\n",
    "            return 0\n",
    "        left = self.__sum(node.left)\n",
    "        right = self.__sum(node.right)\n",
    "        \n",
    "        return left + right + node.value\n",
    "    \n",
    "    def mirror(self):\n",
    "        self.__mirror(self.root)\n",
    "    \n",
    "    def __mirror(self, node):\n",
    "        if node == None:\n",
    "            return\n",
    "        \n",
    "        temp = node.left\n",
    "        node.left = node.right\n",
    "        node.right = temp\n",
    "        \n",
    "        self.__mirror(node.left)\n",
    "        self.__mirror(node.right)"
   ]
  },
  {
   "cell_type": "code",
   "execution_count": 115,
   "metadata": {},
   "outputs": [],
   "source": [
    "tree = BST()"
   ]
  },
  {
   "cell_type": "code",
   "execution_count": null,
   "metadata": {},
   "outputs": [],
   "source": []
  },
  {
   "cell_type": "code",
   "execution_count": null,
   "metadata": {},
   "outputs": [],
   "source": []
  },
  {
   "cell_type": "code",
   "execution_count": 102,
   "metadata": {},
   "outputs": [],
   "source": [
    "tree.add(30)"
   ]
  },
  {
   "cell_type": "code",
   "execution_count": 103,
   "metadata": {},
   "outputs": [
    {
     "data": {
      "text/plain": [
       "<__main__.BST at 0x10c757590>"
      ]
     },
     "execution_count": 103,
     "metadata": {},
     "output_type": "execute_result"
    }
   ],
   "source": [
    "tree"
   ]
  },
  {
   "cell_type": "code",
   "execution_count": 104,
   "metadata": {},
   "outputs": [],
   "source": [
    "tree.add(20)"
   ]
  },
  {
   "cell_type": "code",
   "execution_count": 105,
   "metadata": {},
   "outputs": [],
   "source": [
    "tree.add(40)"
   ]
  },
  {
   "cell_type": "code",
   "execution_count": 106,
   "metadata": {},
   "outputs": [
    {
     "data": {
      "text/plain": [
       "30"
      ]
     },
     "execution_count": 106,
     "metadata": {},
     "output_type": "execute_result"
    }
   ],
   "source": [
    "tree.root.value"
   ]
  },
  {
   "cell_type": "code",
   "execution_count": 107,
   "metadata": {},
   "outputs": [
    {
     "data": {
      "text/plain": [
       "20"
      ]
     },
     "execution_count": 107,
     "metadata": {},
     "output_type": "execute_result"
    }
   ],
   "source": [
    "tree.root.left.value"
   ]
  },
  {
   "cell_type": "code",
   "execution_count": 108,
   "metadata": {},
   "outputs": [
    {
     "data": {
      "text/plain": [
       "True"
      ]
     },
     "execution_count": 108,
     "metadata": {},
     "output_type": "execute_result"
    }
   ],
   "source": [
    "tree.contains(20)"
   ]
  },
  {
   "cell_type": "code",
   "execution_count": 109,
   "metadata": {},
   "outputs": [
    {
     "data": {
      "text/plain": [
       "False"
      ]
     },
     "execution_count": 109,
     "metadata": {},
     "output_type": "execute_result"
    }
   ],
   "source": [
    "tree.contains(10)"
   ]
  },
  {
   "cell_type": "code",
   "execution_count": 110,
   "metadata": {},
   "outputs": [
    {
     "name": "stdout",
     "output_type": "stream",
     "text": [
      " 30 root\n",
      "\t 20 left\n",
      "\t 40 right\n"
     ]
    }
   ],
   "source": [
    "tree.display()"
   ]
  },
  {
   "cell_type": "code",
   "execution_count": 111,
   "metadata": {},
   "outputs": [
    {
     "data": {
      "text/plain": [
       "2"
      ]
     },
     "execution_count": 111,
     "metadata": {},
     "output_type": "execute_result"
    }
   ],
   "source": [
    "tree.height()"
   ]
  },
  {
   "cell_type": "code",
   "execution_count": 112,
   "metadata": {},
   "outputs": [],
   "source": [
    "tree.mirror()"
   ]
  },
  {
   "cell_type": "code",
   "execution_count": 113,
   "metadata": {},
   "outputs": [
    {
     "name": "stdout",
     "output_type": "stream",
     "text": [
      " 30 root\n",
      "\t 40 left\n",
      "\t 20 right\n"
     ]
    }
   ],
   "source": [
    "tree.display()"
   ]
  },
  {
   "cell_type": "code",
   "execution_count": null,
   "metadata": {},
   "outputs": [],
   "source": []
  }
 ],
 "metadata": {
  "kernelspec": {
   "display_name": "Python 3",
   "language": "python",
   "name": "python3"
  },
  "language_info": {
   "codemirror_mode": {
    "name": "ipython",
    "version": 3
   },
   "file_extension": ".py",
   "mimetype": "text/x-python",
   "name": "python",
   "nbconvert_exporter": "python",
   "pygments_lexer": "ipython3",
   "version": "3.7.4"
  }
 },
 "nbformat": 4,
 "nbformat_minor": 4
}
