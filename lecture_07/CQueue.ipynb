{
 "cells": [
  {
   "cell_type": "code",
   "execution_count": 126,
   "metadata": {},
   "outputs": [],
   "source": [
    "import numpy as np"
   ]
  },
  {
   "cell_type": "code",
   "execution_count": 431,
   "metadata": {},
   "outputs": [],
   "source": [
    "class CQueue:\n",
    "    \n",
    "    def __init__(self):\n",
    "        \n",
    "        self.__start = 0\n",
    "        self.__end = 0\n",
    "        self._data = np.zeros((10,), dtype = int)\n",
    "        self.__size = 0\n",
    "    def insert(self,value):\n",
    "        if not self.isFull():\n",
    "            self._data[self.__end % len(self._data)] =  value\n",
    "            self.__end += 1\n",
    "            self.__size += 1\n",
    "        else:\n",
    "            print(\"Queue is already full\")\n",
    "    \n",
    "    def delete(self):\n",
    "        if not self.isEmpty():\n",
    "            temp = self._data[self.__start % len(self._data)]\n",
    "            self.__start += 1 \n",
    "            self.__size -= 1\n",
    "            return temp\n",
    "        else:\n",
    "            print(\"Queue is already empty\")\n",
    "    \n",
    "    def isFull(self):\n",
    "        return self.__size == len(self._data)\n",
    "    \n",
    "    def isEmpty(self):\n",
    "        return self.__size == 0\n",
    "    \n",
    "    def __repr__(self):\n",
    "        end_c = self.__end % len(self._data)\n",
    "        start_c = self.__start % len(self._data)\n",
    "        if start_c < end_c:\n",
    "            return \"[{}]\".format(\" <- \".join(map(str, self._data[start_c: end_c])))\n",
    "        elif end_c < start_c:\n",
    "            out = np.concatenate([self._data[start_c: len(self._data)], self._data[0: end_c]])\n",
    "            return \"[{}]\".format(\" <- \".join(map(str, out)))\n",
    "        else:\n",
    "            if not self.isEmpty():\n",
    "                out = np.concatenate([self._data[start_c: len(self._data)], self._data[0: end_c]])\n",
    "                return \"[{}]\".format(\" <- \".join(map(str, out)))\n",
    "            else:\n",
    "                return \"Queue is already empty\""
   ]
  },
  {
   "cell_type": "code",
   "execution_count": 432,
   "metadata": {},
   "outputs": [],
   "source": [
    "c = CQueue()"
   ]
  },
  {
   "cell_type": "code",
   "execution_count": 402,
   "metadata": {},
   "outputs": [],
   "source": [
    "c.insert(10)"
   ]
  },
  {
   "cell_type": "code",
   "execution_count": 403,
   "metadata": {},
   "outputs": [],
   "source": [
    "c.insert(12)"
   ]
  },
  {
   "cell_type": "code",
   "execution_count": 404,
   "metadata": {},
   "outputs": [
    {
     "data": {
      "text/plain": [
       "10"
      ]
     },
     "execution_count": 404,
     "metadata": {},
     "output_type": "execute_result"
    }
   ],
   "source": [
    "c.delete()"
   ]
  },
  {
   "cell_type": "code",
   "execution_count": 433,
   "metadata": {},
   "outputs": [
    {
     "name": "stdout",
     "output_type": "stream",
     "text": [
      "Queue is already empty\n"
     ]
    }
   ],
   "source": [
    "print(c)"
   ]
  },
  {
   "cell_type": "code",
   "execution_count": null,
   "metadata": {},
   "outputs": [],
   "source": []
  },
  {
   "cell_type": "code",
   "execution_count": 434,
   "metadata": {},
   "outputs": [],
   "source": [
    "class DynamicQueue(CQueue):\n",
    "    \n",
    "    def insert(self,value):\n",
    "        if self.isFull():\n",
    "            self._data = np.concatenate([self._data, np.zeros(len(self._data), dtype=int)] )\n",
    "        \n",
    "        super().insert(value)"
   ]
  },
  {
   "cell_type": "code",
   "execution_count": 435,
   "metadata": {},
   "outputs": [],
   "source": [
    "dynamic = DynamicQueue()"
   ]
  },
  {
   "cell_type": "code",
   "execution_count": 436,
   "metadata": {},
   "outputs": [],
   "source": [
    "for i in range(20):\n",
    "    dynamic.insert(i)"
   ]
  },
  {
   "cell_type": "code",
   "execution_count": 437,
   "metadata": {},
   "outputs": [
    {
     "name": "stdout",
     "output_type": "stream",
     "text": [
      "[0 <- 1 <- 2 <- 3 <- 4 <- 5 <- 6 <- 7 <- 8 <- 9 <- 10 <- 11 <- 12 <- 13 <- 14 <- 15 <- 16 <- 17 <- 18 <- 19]\n"
     ]
    }
   ],
   "source": [
    "print(dynamic)"
   ]
  },
  {
   "cell_type": "code",
   "execution_count": null,
   "metadata": {},
   "outputs": [],
   "source": []
  }
 ],
 "metadata": {
  "kernelspec": {
   "display_name": "Python 3",
   "language": "python",
   "name": "python3"
  },
  "language_info": {
   "codemirror_mode": {
    "name": "ipython",
    "version": 3
   },
   "file_extension": ".py",
   "mimetype": "text/x-python",
   "name": "python",
   "nbconvert_exporter": "python",
   "pygments_lexer": "ipython3",
   "version": "3.7.4"
  }
 },
 "nbformat": 4,
 "nbformat_minor": 4
}
