{
 "cells": [
  {
   "cell_type": "code",
   "execution_count": 3,
   "metadata": {},
   "outputs": [],
   "source": [
    "import numpy as np"
   ]
  },
  {
   "cell_type": "code",
   "execution_count": 23,
   "metadata": {},
   "outputs": [],
   "source": [
    "class CQueue:\n",
    "    \n",
    "    def __init__(self):\n",
    "        self._start = 0\n",
    "        self._end = 0\n",
    "        self._data = np.zeros((10,), dtype = int)\n",
    "        self.__size = 0\n",
    "        \n",
    "    def insert(self,value):\n",
    "        if not self.isFull():\n",
    "            self._data[self._end] =  value\n",
    "            self._end += 1\n",
    "            self._end = self._end % len(self._data)\n",
    "            self.__size += 1\n",
    "        else:\n",
    "            print(\"Queue is already full\")\n",
    "    \n",
    "    def delete(self):\n",
    "        if not self.isEmpty():\n",
    "            temp = self._data[self.__start]\n",
    "            self._start += 1\n",
    "            self._start = self._start % len(self._data)\n",
    "            self.__size -= 1\n",
    "            return temp\n",
    "        else:\n",
    "            print(\"Queue is already empty\")\n",
    "    \n",
    "    def isFull(self):\n",
    "        return self.__size == len(self._data)\n",
    "    \n",
    "    def isEmpty(self):\n",
    "        return self.__size == 0\n",
    "    \n",
    "    def __repr__(self):\n",
    "        if self._start < self._end:\n",
    "            return \"[{}]\".format(\" <- \".join(map(str, self._data[self._start: self._end])))\n",
    "        elif self._end < self._start:\n",
    "            out = np.concatenate([self._data[self._start: len(self._data)], self._data[0: self._end]])\n",
    "            return \"[{}]\".format(\" <- \".join(map(str, out)))\n",
    "        else:\n",
    "            if not self.isEmpty():\n",
    "                out = np.concatenate([self._data[self._start: len(self._data)], self._data[0: self._end]])\n",
    "                return \"[{}]\".format(\" <- \".join(map(str, out)))\n",
    "            else:\n",
    "                return \"Queue is already empty\""
   ]
  },
  {
   "cell_type": "code",
   "execution_count": 27,
   "metadata": {},
   "outputs": [],
   "source": [
    "c = CQueue()"
   ]
  },
  {
   "cell_type": "code",
   "execution_count": 28,
   "metadata": {},
   "outputs": [],
   "source": [
    "for i in range(10):\n",
    "    c.insert(i)"
   ]
  },
  {
   "cell_type": "code",
   "execution_count": 26,
   "metadata": {},
   "outputs": [
    {
     "name": "stdout",
     "output_type": "stream",
     "text": [
      "Queue is already full\n"
     ]
    }
   ],
   "source": [
    "c.insert(10)"
   ]
  },
  {
   "cell_type": "code",
   "execution_count": 7,
   "metadata": {},
   "outputs": [],
   "source": [
    "c.insert(12)"
   ]
  },
  {
   "cell_type": "code",
   "execution_count": 404,
   "metadata": {},
   "outputs": [
    {
     "data": {
      "text/plain": [
       "10"
      ]
     },
     "execution_count": 404,
     "metadata": {},
     "output_type": "execute_result"
    }
   ],
   "source": [
    "c.delete()"
   ]
  },
  {
   "cell_type": "code",
   "execution_count": 29,
   "metadata": {},
   "outputs": [
    {
     "name": "stdout",
     "output_type": "stream",
     "text": [
      "[0 <- 1 <- 2 <- 3 <- 4 <- 5 <- 6 <- 7 <- 8 <- 9]\n"
     ]
    }
   ],
   "source": [
    "print(c)"
   ]
  },
  {
   "cell_type": "code",
   "execution_count": null,
   "metadata": {},
   "outputs": [],
   "source": []
  },
  {
   "cell_type": "code",
   "execution_count": 33,
   "metadata": {},
   "outputs": [],
   "source": [
    "class DynamicQueue(CQueue):\n",
    "    \n",
    "    def insert(self,value):\n",
    "        if self.isFull():\n",
    "            self._end += len(self._data)\n",
    "            self._data = np.concatenate([self._data, np.zeros(len(self._data), dtype=int)] )\n",
    "\n",
    "        super().insert(value)"
   ]
  },
  {
   "cell_type": "code",
   "execution_count": 34,
   "metadata": {},
   "outputs": [],
   "source": [
    "dynamic = DynamicQueue()"
   ]
  },
  {
   "cell_type": "code",
   "execution_count": 35,
   "metadata": {},
   "outputs": [],
   "source": [
    "for i in range(20):\n",
    "    dynamic.insert(i)"
   ]
  },
  {
   "cell_type": "code",
   "execution_count": 36,
   "metadata": {},
   "outputs": [
    {
     "name": "stdout",
     "output_type": "stream",
     "text": [
      "[0 <- 1 <- 2 <- 3 <- 4 <- 5 <- 6 <- 7 <- 8 <- 9 <- 10 <- 11 <- 12 <- 13 <- 14 <- 15 <- 16 <- 17 <- 18 <- 19]\n"
     ]
    }
   ],
   "source": [
    "print(dynamic)"
   ]
  },
  {
   "cell_type": "code",
   "execution_count": 37,
   "metadata": {},
   "outputs": [],
   "source": [
    "cut = [1, 2, 5, 2, 3, 5]"
   ]
  },
  {
   "cell_type": "code",
   "execution_count": 40,
   "metadata": {},
   "outputs": [
    {
     "data": {
      "text/plain": [
       "'[1,2,5,2,3,5]'"
      ]
     },
     "execution_count": 40,
     "metadata": {},
     "output_type": "execute_result"
    }
   ],
   "source": [
    "f'[{\",\".join(map(str,cut))}]'"
   ]
  },
  {
   "cell_type": "code",
   "execution_count": null,
   "metadata": {},
   "outputs": [],
   "source": []
  }
 ],
 "metadata": {
  "kernelspec": {
   "display_name": "Python 3",
   "language": "python",
   "name": "python3"
  },
  "language_info": {
   "codemirror_mode": {
    "name": "ipython",
    "version": 3
   },
   "file_extension": ".py",
   "mimetype": "text/x-python",
   "name": "python",
   "nbconvert_exporter": "python",
   "pygments_lexer": "ipython3",
   "version": "3.7.4"
  }
 },
 "nbformat": 4,
 "nbformat_minor": 4
}
