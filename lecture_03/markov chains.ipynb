{
 "cells": [
  {
   "cell_type": "code",
   "execution_count": 10,
   "metadata": {},
   "outputs": [],
   "source": [
    "import requests\n",
    "import random"
   ]
  },
  {
   "cell_type": "code",
   "execution_count": 3,
   "metadata": {},
   "outputs": [],
   "source": [
    "url = r\"https://cb.lk/speech\""
   ]
  },
  {
   "cell_type": "code",
   "execution_count": 4,
   "metadata": {},
   "outputs": [],
   "source": [
    "response = requests.get(url)"
   ]
  },
  {
   "cell_type": "code",
   "execution_count": 5,
   "metadata": {},
   "outputs": [],
   "source": [
    "text = response.text"
   ]
  },
  {
   "cell_type": "code",
   "execution_count": 6,
   "metadata": {},
   "outputs": [],
   "source": [
    "k = 5"
   ]
  },
  {
   "cell_type": "code",
   "execution_count": 8,
   "metadata": {},
   "outputs": [],
   "source": [
    "counts = {}\n",
    "for i in range(k, len(text)):\n",
    "    cut = text[i-k:i]\n",
    "    nxt = text[i]\n",
    "    \n",
    "    if cut not in counts:\n",
    "        counts[cut] = {}\n",
    "        \n",
    "    if nxt not in counts[cut]:\n",
    "        counts[cut][nxt] = 0\n",
    "        \n",
    "    counts[cut][nxt] += 1\n",
    "        "
   ]
  },
  {
   "cell_type": "code",
   "execution_count": 14,
   "metadata": {},
   "outputs": [],
   "source": [
    "greeting = text[:20]"
   ]
  },
  {
   "cell_type": "code",
   "execution_count": 16,
   "metadata": {},
   "outputs": [],
   "source": [
    "for i in range(500):\n",
    "    cut = greeting[-k:]\n",
    "    top3 = (sorted(counts[cut].items(), key = lambda item: item[1], reverse = True)[:3])\n",
    "    chosen = random.choice(top3)[0]\n",
    "    greeting = greeting + chosen"
   ]
  },
  {
   "cell_type": "code",
   "execution_count": 17,
   "metadata": {},
   "outputs": [
    {
     "name": "stdout",
     "output_type": "stream",
     "text": [
      "26 8 2016, India\n",
      "Niti Ayog will, sense. \n",
      "It’s internate exact activator banking off. Broad-map towards courage, whose will nurturing.\n",
      "So, at an amount. Thane Warne calls from\n",
      "air theirs? Whether.\n",
      "To started anyone facing. \n",
      "Together, talks. It’s addressed, between, as we head in advice, Inclusion theirs? I reques area. \n",
      "It’s talk alone. Thanks!\n",
      "#DELIMITER#\n",
      "22 11 2015. \n",
      "• Tax returns, onlining, ask than, food, and similater, thirst two you. \n",
      "Afghanism, became. The stand think abound themselves. \n",
      "We wants too wanted a\n"
     ]
    }
   ],
   "source": [
    "print (greeting)"
   ]
  },
  {
   "cell_type": "code",
   "execution_count": 30,
   "metadata": {},
   "outputs": [
    {
     "name": "stdout",
     "output_type": "stream",
     "text": [
      "H-i-m-a-n-s-h-u- -H-a-n-s-a-r-i-a-"
     ]
    }
   ],
   "source": [
    "name = \"Himanshu Hansaria\"\n",
    "for ch in name:\n",
    "    print(ch, sep=\"-\",end = \"-\")"
   ]
  },
  {
   "cell_type": "code",
   "execution_count": 29,
   "metadata": {},
   "outputs": [
    {
     "name": "stdout",
     "output_type": "stream",
     "text": [
      "hi-bye\n"
     ]
    }
   ],
   "source": [
    "print(\"hi\", \"bye\", sep=\"-\")"
   ]
  },
  {
   "cell_type": "code",
   "execution_count": null,
   "metadata": {},
   "outputs": [],
   "source": []
  }
 ],
 "metadata": {
  "kernelspec": {
   "display_name": "Python 3",
   "language": "python",
   "name": "python3"
  },
  "language_info": {
   "codemirror_mode": {
    "name": "ipython",
    "version": 3
   },
   "file_extension": ".py",
   "mimetype": "text/x-python",
   "name": "python",
   "nbconvert_exporter": "python",
   "pygments_lexer": "ipython3",
   "version": "3.7.4"
  }
 },
 "nbformat": 4,
 "nbformat_minor": 4
}
