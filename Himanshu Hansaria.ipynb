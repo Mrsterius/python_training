{
 "cells": [
  {
   "cell_type": "markdown",
   "metadata": {},
   "source": [
    "Himanshu Hansaria\n",
    "8744957457"
   ]
  },
  {
   "cell_type": "markdown",
   "metadata": {},
   "source": [
    "### Numpy, Pandas, and Prediction\n"
   ]
  },
  {
   "cell_type": "markdown",
   "metadata": {},
   "source": [
    "## Name: "
   ]
  },
  {
   "cell_type": "markdown",
   "metadata": {},
   "source": [
    "<div class=\"alert alert-danger\" role=\"alert\">\n",
    "Note: You must print the output of each question in a new cell below your code. Homework submissions without outputs displayed will not be graded.\n",
    "    </div>"
   ]
  },
  {
   "cell_type": "markdown",
   "metadata": {},
   "source": [
    "## Numpy Review"
   ]
  },
  {
   "cell_type": "markdown",
   "metadata": {},
   "source": [
    "\n",
    "__1a) Create two numpy arrays (`a` and `b`).__\n",
    "\n",
    "* `a` should be all integers between 25-34 (inclusive)\n",
    "* `b` should be ten evenly spaced numbers between 1-6. \n",
    "\n",
    "\n",
    "**Print all the results for 1-4 below and solve them consecutively:**\n",
    "\n",
    "\n",
    "1. Cube (i.e. raise to the power of 3) all the elements in both arrays (element-wise)  \n",
    "2. Add the cubed arrays `a^3 + b^3` (e.g., `[1,2] + [3,4] = [4,6]`)  \n",
    "3. Sum the elements with even indices of the added array from `2.`  \n",
    "4. Take the square root of the added array (element-wise square root)\n",
    "\n",
    "\n"
   ]
  },
  {
   "cell_type": "code",
   "execution_count": 1,
   "metadata": {},
   "outputs": [],
   "source": [
    "import numpy as np"
   ]
  },
  {
   "cell_type": "code",
   "execution_count": 11,
   "metadata": {},
   "outputs": [],
   "source": [
    "a = np.linspace(25, 34, 10, dtype= int)"
   ]
  },
  {
   "cell_type": "code",
   "execution_count": 13,
   "metadata": {},
   "outputs": [],
   "source": [
    "b = np.linspace(1, 6, 10)"
   ]
  },
  {
   "cell_type": "code",
   "execution_count": 19,
   "metadata": {},
   "outputs": [
    {
     "name": "stdout",
     "output_type": "stream",
     "text": [
      "[15625 17576 19683 21952 24389 27000 29791 32768 35937 39304]\n"
     ]
    }
   ],
   "source": [
    "print(a ** 3)"
   ]
  },
  {
   "cell_type": "code",
   "execution_count": 20,
   "metadata": {},
   "outputs": [
    {
     "name": "stdout",
     "output_type": "stream",
     "text": [
      "[  1.           3.76406036   9.40877915  18.96296296  33.45541838\n",
      "  53.91495199  81.37037037 116.85048011 161.38408779 216.        ]\n"
     ]
    }
   ],
   "source": [
    "print(b ** 3)"
   ]
  },
  {
   "cell_type": "code",
   "execution_count": 18,
   "metadata": {},
   "outputs": [
    {
     "name": "stdout",
     "output_type": "stream",
     "text": [
      "[15626.         17579.76406036 19692.40877915 21970.96296296\n",
      " 24422.45541838 27053.91495199 29872.37037037 32884.85048011\n",
      " 36098.38408779 39520.        ]\n"
     ]
    }
   ],
   "source": [
    "c = a ** 3 + b ** 3\n",
    "print(c)"
   ]
  },
  {
   "cell_type": "code",
   "execution_count": 17,
   "metadata": {},
   "outputs": [
    {
     "name": "stdout",
     "output_type": "stream",
     "text": [
      "110085.61865569273\n"
     ]
    }
   ],
   "source": [
    "sum = 0\n",
    "for i in range(len(c)):\n",
    "    if i != 0 and i % 2 == 0:\n",
    "        sum += c[i]\n",
    "print(sum)"
   ]
  },
  {
   "cell_type": "code",
   "execution_count": 22,
   "metadata": {},
   "outputs": [
    {
     "name": "stdout",
     "output_type": "stream",
     "text": [
      "[125.00399994 132.58870261 140.32964327 148.22605359 156.27685503\n",
      " 164.48074341 172.83625306 181.34180566 189.99574755 198.79637824]\n"
     ]
    }
   ],
   "source": [
    "print(np.sqrt(c))"
   ]
  },
  {
   "cell_type": "markdown",
   "metadata": {},
   "source": [
    "__1b) Append `b` to `a`, reshape the appended array so that it is a 4x5 2d array. Store the results in a variable called `m`. Print `m`.__"
   ]
  },
  {
   "cell_type": "code",
   "execution_count": 28,
   "metadata": {},
   "outputs": [],
   "source": [
    "d = np.concatenate((a,b))"
   ]
  },
  {
   "cell_type": "code",
   "execution_count": 31,
   "metadata": {},
   "outputs": [],
   "source": [
    "m = d.reshape(4,5)"
   ]
  },
  {
   "cell_type": "code",
   "execution_count": 32,
   "metadata": {},
   "outputs": [
    {
     "name": "stdout",
     "output_type": "stream",
     "text": [
      "[[25.         26.         27.         28.         29.        ]\n",
      " [30.         31.         32.         33.         34.        ]\n",
      " [ 1.          1.55555556  2.11111111  2.66666667  3.22222222]\n",
      " [ 3.77777778  4.33333333  4.88888889  5.44444444  6.        ]]\n"
     ]
    }
   ],
   "source": [
    "print(m)"
   ]
  },
  {
   "cell_type": "markdown",
   "metadata": {},
   "source": [
    "__1c) Extract the third and the fourth column of the `m` matrix. Store the resulting 4x2 matrix in a new variable called `m2`. Print `m2`.__\n"
   ]
  },
  {
   "cell_type": "code",
   "execution_count": 41,
   "metadata": {},
   "outputs": [
    {
     "name": "stdout",
     "output_type": "stream",
     "text": [
      "[[27.         28.        ]\n",
      " [32.         33.        ]\n",
      " [ 2.11111111  2.66666667]\n",
      " [ 4.88888889  5.44444444]]\n"
     ]
    }
   ],
   "source": [
    "m2 = m[:, 2:4]\n",
    "print(m2)"
   ]
  },
  {
   "cell_type": "markdown",
   "metadata": {},
   "source": [
    "__1d) Take the dot product of `m2` and `m` store the results in a matrix called `m3`. Print `m3`.\n",
    "Note that Dot product of two matrices A.B =A<sup>T</sup>B__"
   ]
  },
  {
   "cell_type": "code",
   "execution_count": 50,
   "metadata": {},
   "outputs": [
    {
     "name": "stdout",
     "output_type": "stream",
     "text": [
      "[[1655.58024691 1718.4691358  1781.35802469 1844.24691358 1907.13580247]\n",
      " [1713.2345679  1778.74074074 1844.24691358 1909.75308642 1975.25925926]]\n"
     ]
    }
   ],
   "source": [
    "m2_T = m2.transpose()\n",
    "m3 = m2_T.dot(m)\n",
    "print(m3)"
   ]
  },
  {
   "cell_type": "markdown",
   "metadata": {},
   "source": [
    "## Numpy conditions"
   ]
  },
  {
   "cell_type": "markdown",
   "metadata": {},
   "source": [
    "\n",
    "__2a) Create a Numpy array called `f` containing the values of `cosine(x)` for x from 0 to $\\pi$ in 50 equally spaced value increments__\n",
    "* 1. Print `f`\n",
    "* 2. Use condition mask and print an array that is `True` when `f >= 1/2` and `False` when `f < 1/2`\n",
    "* 3. Create and print an array sequence that has only those values where `f>= 1/2`\n",
    "\n"
   ]
  },
  {
   "cell_type": "code",
   "execution_count": 69,
   "metadata": {},
   "outputs": [
    {
     "name": "stdout",
     "output_type": "stream",
     "text": [
      "[ 1.          0.99794539  0.99179001  0.98155916  0.96729486  0.94905575\n",
      "  0.92691676  0.90096887  0.8713187   0.8380881   0.80141362  0.76144596\n",
      "  0.71834935  0.67230089  0.6234898   0.57211666  0.51839257  0.46253829\n",
      "  0.40478334  0.34536505  0.28452759  0.22252093  0.1595999   0.09602303\n",
      "  0.03205158 -0.03205158 -0.09602303 -0.1595999  -0.22252093 -0.28452759\n",
      " -0.34536505 -0.40478334 -0.46253829 -0.51839257 -0.57211666 -0.6234898\n",
      " -0.67230089 -0.71834935 -0.76144596 -0.80141362 -0.8380881  -0.8713187\n",
      " -0.90096887 -0.92691676 -0.94905575 -0.96729486 -0.98155916 -0.99179001\n",
      " -0.99794539 -1.        ]\n",
      "[ True  True  True  True  True  True  True  True  True  True  True  True\n",
      "  True  True  True  True  True False False False False False False False\n",
      " False False False False False False False False False False False False\n",
      " False False False False False False False False False False False False\n",
      " False False]\n",
      "[1.         0.99794539 0.99179001 0.98155916 0.96729486 0.94905575\n",
      " 0.92691676 0.90096887 0.8713187  0.8380881  0.80141362 0.76144596\n",
      " 0.71834935 0.67230089 0.6234898  0.57211666 0.51839257]\n"
     ]
    }
   ],
   "source": [
    "x = np.linspace(0, np.pi, 50)\n",
    "f = np.cos(x)\n",
    "print(f)\n",
    "print(f >= 1/2)\n",
    "arr = f[f>=1/2]\n",
    "print(arr)"
   ]
  },
  {
   "cell_type": "markdown",
   "metadata": {},
   "source": [
    "## NumPy and 2 Variable Prediction"
   ]
  },
  {
   "cell_type": "markdown",
   "metadata": {},
   "source": [
    "__Let `x` be the number of miles a person drives per day and `y` be the dollars spent on buying car fuel (per day).__\n",
    "  \n",
    "We have created 2 numpy arrays each of size 100 that represent `x` and `y`.\n",
    "* `x` ( number of miles) ranges from 1 to 10 with a uniform noise of (0,1/2)  \n",
    "* `y` (money spent in dollars) will be from 1 to 20 with a uniform noise (0,1) \n"
   ]
  },
  {
   "cell_type": "code",
   "execution_count": 122,
   "metadata": {},
   "outputs": [
    {
     "name": "stdout",
     "output_type": "stream",
     "text": [
      "x =  [ 1.34683976  1.12176759  1.51512398  1.55233174  1.40619168  1.65075498\n",
      "  1.79399331  1.80243817  1.89844195  2.00100023  2.3344038   2.22424872\n",
      "  2.24914511  2.36268477  2.49808849  2.8212704   2.68452475  2.68229427\n",
      "  3.09511169  2.95703884  3.09047742  3.2544361   3.41541904  3.40886375\n",
      "  3.50672677  3.74960644  3.64861355  3.7721462   3.56368566  4.01092701\n",
      "  4.15630694  4.06088549  4.02517179  4.25169402  4.15897504  4.26835333\n",
      "  4.32520644  4.48563164  4.78490721  4.84614839  4.96698768  5.18754259\n",
      "  5.29582013  5.32097781  5.0674106   5.47601124  5.46852704  5.64537452\n",
      "  5.49642807  5.89755027  5.68548923  5.76276141  5.94613234  6.18135713\n",
      "  5.96522091  6.0275473   6.54290191  6.4991329   6.74003765  6.81809807\n",
      "  6.50611821  6.91538752  7.01250925  6.89905417  7.31314433  7.20472297\n",
      "  7.1043621   7.48199528  7.58957227  7.61744354  7.6991707   7.85436822\n",
      "  8.03510784  7.80787781  8.22410224  7.99366248  8.40581097  8.28913792\n",
      "  8.45971515  8.54227144  8.6906456   8.61856507  8.83489887  8.66309658\n",
      "  8.94837987  9.20890222  8.9614749   8.92608294  9.13231416  9.55889896\n",
      "  9.61488451  9.54252979  9.42015491  9.90952569 10.00659591 10.02504265\n",
      " 10.07330937  9.93489915 10.0892334  10.36509991]\n",
      "y =  [ 1.6635012   2.0214592   2.10816052  2.26016496  1.96287558  2.9554635\n",
      "  3.02881887  3.33565296  2.75465779  3.4250107   3.39670148  3.39377767\n",
      "  3.78503343  4.38293049  4.32963586  4.03925039  4.73691868  4.30098399\n",
      "  4.8416329   4.78175957  4.99765787  5.31746817  5.76844671  5.93723749\n",
      "  5.72811642  6.70973615  6.68143367  6.57482731  7.17737603  7.54863252\n",
      "  7.30221419  7.3202573   7.78023884  7.91133365  8.2765417   8.69203281\n",
      "  8.78219865  8.45897546  8.89094715  8.81719921  8.87106971  9.66192562\n",
      "  9.4020625   9.85990783  9.60359778 10.07386266 10.6957995  10.66721916\n",
      " 11.18256285 10.57431836 11.46744716 10.94398916 11.26445259 12.09754828\n",
      " 12.11988037 12.121557   12.17613693 12.43750193 13.00912372 12.86407194\n",
      " 13.24640866 12.76120085 13.11723062 14.07841099 14.19821707 14.27289001\n",
      " 14.30624942 14.63060835 14.2770918  15.0744923  14.45261619 15.11897313\n",
      " 15.2378667  15.27203124 15.32491892 16.01095271 15.71250558 16.29488506\n",
      " 16.70618934 16.56555394 16.42379457 17.18144744 17.13813976 17.69613625\n",
      " 17.37763019 17.90942839 17.90343733 18.01951169 18.35727914 18.16841269\n",
      " 18.61813748 18.66062754 18.81217983 19.44995194 19.7213867  19.71966726\n",
      " 19.78961904 19.64385088 20.69719809 20.07974319]\n"
     ]
    }
   ],
   "source": [
    "# seed the random number generator with a fixed value\n",
    "import numpy as np\n",
    "np.random.seed(500)\n",
    "\n",
    "x = np.linspace(1,10,100)+ np.random.uniform(low=0,high=.5,size=100) \n",
    "y = np.linspace(1,20,100)+ np.random.uniform(low=0,high=1,size=100)\n",
    "print('x = ',x)\n",
    "print('y = ',y)"
   ]
  },
  {
   "cell_type": "markdown",
   "metadata": {},
   "source": [
    "__3a) Find Expected value of `x` and the Expected value of `y`__"
   ]
  },
  {
   "cell_type": "code",
   "execution_count": 123,
   "metadata": {},
   "outputs": [
    {
     "name": "stdout",
     "output_type": "stream",
     "text": [
      "5.782532541587923\n",
      "11.012981683344968\n"
     ]
    }
   ],
   "source": [
    "# your code here\n",
    "print(x.mean())\n",
    "print(y.mean())"
   ]
  },
  {
   "cell_type": "markdown",
   "metadata": {},
   "source": [
    "__3b) Find variance of `x` and `y`__"
   ]
  },
  {
   "cell_type": "code",
   "execution_count": 126,
   "metadata": {},
   "outputs": [
    {
     "name": "stdout",
     "output_type": "stream",
     "text": [
      "7.03332752947585\n",
      "30.113903575509635\n"
     ]
    }
   ],
   "source": [
    "# your code here\n",
    "print(x.var())\n",
    "print(y.var())"
   ]
  },
  {
   "cell_type": "markdown",
   "metadata": {},
   "source": [
    "__3c) Find covariance of `x` and `y`.__"
   ]
  },
  {
   "cell_type": "code",
   "execution_count": 129,
   "metadata": {},
   "outputs": [
    {
     "name": "stdout",
     "output_type": "stream",
     "text": [
      "[[ 7.10437124 14.65774383]\n",
      " [14.65774383 30.41808442]]\n"
     ]
    }
   ],
   "source": [
    "# your code here\n",
    "print(np.cov(x,y))"
   ]
  },
  {
   "cell_type": "markdown",
   "metadata": {},
   "source": [
    "__3d) Assuming that number of dollars spent on car fuel is only dependent on the miles driven, by  a linear relationship.  \n",
    "Write code that finds the model paramters `c` and `m` for a linear predictor to calculate a predicted value of `y` for each `x`\n",
    "i.e $\\hat{y}$=`y_predicted = f(x) = c+mx`. (Do not use Machine learning libraries, only native Numpy).__\n",
    "\n",
    "Print `m` and `c`"
   ]
  },
  {
   "cell_type": "code",
   "execution_count": 134,
   "metadata": {},
   "outputs": [
    {
     "name": "stdout",
     "output_type": "stream",
     "text": [
      "2.063200715971324\n",
      "-0.9175435965867221\n"
     ]
    }
   ],
   "source": [
    "# your code here\n",
    "m, c = np.polyfit(x,y, 1)\n",
    "print(m)\n",
    "print(c)"
   ]
  },
  {
   "cell_type": "markdown",
   "metadata": {},
   "source": [
    "__3e) Predict `y` for each value in `x`. Calculate the Squared Error (SE), ie $SE = \\sum^{100}_1 (\\hat{y}-y)^2$, store the squared errors in an array called `y_error`__"
   ]
  },
  {
   "cell_type": "code",
   "execution_count": 141,
   "metadata": {},
   "outputs": [
    {
     "name": "stdout",
     "output_type": "stream",
     "text": [
      "17.445468084895097\n"
     ]
    }
   ],
   "source": [
    "# your code here\n",
    "y_pred = m * x + c \n",
    "y_error = (y - y_pred) ** 2\n",
    "y_error = y_error.sum()\n",
    "print(y_error)"
   ]
  },
  {
   "cell_type": "markdown",
   "metadata": {},
   "source": [
    "__3f) Write code that calculates the root mean square error(RMSE), that is the square root of the mean of `y_error`__\n"
   ]
  },
  {
   "cell_type": "code",
   "execution_count": 143,
   "metadata": {},
   "outputs": [
    {
     "name": "stdout",
     "output_type": "stream",
     "text": [
      "4.176777236685612\n"
     ]
    }
   ],
   "source": [
    "# your code here\n",
    "print(np.sqrt(y_error.mean()))"
   ]
  },
  {
   "cell_type": "markdown",
   "metadata": {},
   "source": [
    "## Pandas Introduction\n",
    "\n",
    "In order to complete some of these problems you might need to go over the Data-X Pandas notebook (depending on how much Pandas you've used).\n",
    "\n",
    "You can find the Pandas notebook in the Github repository: [github.com/afo/data-x-plaksha](github.com/afo/data-x-plaksha) (look in the folder `02b-tools-pandas` for the notebook `pandas-intro-v8_short.ipynb`\n",
    "\n",
    "##  Reading File\n"
   ]
  },
  {
   "cell_type": "code",
   "execution_count": 71,
   "metadata": {},
   "outputs": [],
   "source": [
    "# Load required modules\n",
    "import pandas as pd\n",
    "import numpy as np\n",
    "\n"
   ]
  },
  {
   "cell_type": "markdown",
   "metadata": {},
   "source": [
    "#### Read the CSV file called `'data3.csv'` into a dataframe called `df`. \n",
    "#### Data description\n",
    "* File location: Attached along\n",
    "* Data source: http://www.fao.org/nr/water/aquastat/data/query/index.html?*lang=en\n",
    "* Data, units:\n",
    "* GDP, current USD (CPI adjusted)\n",
    "* NRI, mm/yr\n",
    "* Population density, inhab/km^2\n",
    "* Total area of the country, 1000 ha = 10km^2\n",
    "* Total Population, unit 1000 inhabitants\n"
   ]
  },
  {
   "cell_type": "code",
   "execution_count": 153,
   "metadata": {},
   "outputs": [],
   "source": [
    "df = pd.read_csv('contest.csv', header = 1)"
   ]
  },
  {
   "cell_type": "markdown",
   "metadata": {},
   "source": [
    "#### 4a ) Display the first 10 rows of the dataframe"
   ]
  },
  {
   "cell_type": "code",
   "execution_count": 154,
   "metadata": {},
   "outputs": [
    {
     "data": {
      "text/html": [
       "<div>\n",
       "<style scoped>\n",
       "    .dataframe tbody tr th:only-of-type {\n",
       "        vertical-align: middle;\n",
       "    }\n",
       "\n",
       "    .dataframe tbody tr th {\n",
       "        vertical-align: top;\n",
       "    }\n",
       "\n",
       "    .dataframe thead th {\n",
       "        text-align: right;\n",
       "    }\n",
       "</style>\n",
       "<table border=\"1\" class=\"dataframe\">\n",
       "  <thead>\n",
       "    <tr style=\"text-align: right;\">\n",
       "      <th></th>\n",
       "      <th>Area</th>\n",
       "      <th>Area Id</th>\n",
       "      <th>Variable Name</th>\n",
       "      <th>Variable Id</th>\n",
       "      <th>Year</th>\n",
       "      <th>Value</th>\n",
       "      <th>Symbol</th>\n",
       "    </tr>\n",
       "  </thead>\n",
       "  <tbody>\n",
       "    <tr>\n",
       "      <td>0</td>\n",
       "      <td>Argentina</td>\n",
       "      <td>9</td>\n",
       "      <td>Total area of the country</td>\n",
       "      <td>4100</td>\n",
       "      <td>1962</td>\n",
       "      <td>278040.0</td>\n",
       "      <td>E</td>\n",
       "    </tr>\n",
       "    <tr>\n",
       "      <td>1</td>\n",
       "      <td>Argentina</td>\n",
       "      <td>9</td>\n",
       "      <td>Total area of the country</td>\n",
       "      <td>4100</td>\n",
       "      <td>1967</td>\n",
       "      <td>278040.0</td>\n",
       "      <td>E</td>\n",
       "    </tr>\n",
       "    <tr>\n",
       "      <td>2</td>\n",
       "      <td>Argentina</td>\n",
       "      <td>9</td>\n",
       "      <td>Total area of the country</td>\n",
       "      <td>4100</td>\n",
       "      <td>1972</td>\n",
       "      <td>278040.0</td>\n",
       "      <td>E</td>\n",
       "    </tr>\n",
       "    <tr>\n",
       "      <td>3</td>\n",
       "      <td>Argentina</td>\n",
       "      <td>9</td>\n",
       "      <td>Total area of the country</td>\n",
       "      <td>4100</td>\n",
       "      <td>1977</td>\n",
       "      <td>278040.0</td>\n",
       "      <td>E</td>\n",
       "    </tr>\n",
       "    <tr>\n",
       "      <td>4</td>\n",
       "      <td>Argentina</td>\n",
       "      <td>9</td>\n",
       "      <td>Total area of the country</td>\n",
       "      <td>4100</td>\n",
       "      <td>1982</td>\n",
       "      <td>278040.0</td>\n",
       "      <td>E</td>\n",
       "    </tr>\n",
       "    <tr>\n",
       "      <td>5</td>\n",
       "      <td>Argentina</td>\n",
       "      <td>9</td>\n",
       "      <td>Total area of the country</td>\n",
       "      <td>4100</td>\n",
       "      <td>1987</td>\n",
       "      <td>278040.0</td>\n",
       "      <td>E</td>\n",
       "    </tr>\n",
       "    <tr>\n",
       "      <td>6</td>\n",
       "      <td>Argentina</td>\n",
       "      <td>9</td>\n",
       "      <td>Total area of the country</td>\n",
       "      <td>4100</td>\n",
       "      <td>1992</td>\n",
       "      <td>278040.0</td>\n",
       "      <td>E</td>\n",
       "    </tr>\n",
       "    <tr>\n",
       "      <td>7</td>\n",
       "      <td>Argentina</td>\n",
       "      <td>9</td>\n",
       "      <td>Total area of the country</td>\n",
       "      <td>4100</td>\n",
       "      <td>1997</td>\n",
       "      <td>278040.0</td>\n",
       "      <td>E</td>\n",
       "    </tr>\n",
       "    <tr>\n",
       "      <td>8</td>\n",
       "      <td>Argentina</td>\n",
       "      <td>9</td>\n",
       "      <td>Total area of the country</td>\n",
       "      <td>4100</td>\n",
       "      <td>2002</td>\n",
       "      <td>278040.0</td>\n",
       "      <td>E</td>\n",
       "    </tr>\n",
       "    <tr>\n",
       "      <td>9</td>\n",
       "      <td>Argentina</td>\n",
       "      <td>9</td>\n",
       "      <td>Total area of the country</td>\n",
       "      <td>4100</td>\n",
       "      <td>2007</td>\n",
       "      <td>278040.0</td>\n",
       "      <td>E</td>\n",
       "    </tr>\n",
       "  </tbody>\n",
       "</table>\n",
       "</div>"
      ],
      "text/plain": [
       "        Area  Area Id              Variable Name  Variable Id  Year     Value  \\\n",
       "0  Argentina        9  Total area of the country         4100  1962  278040.0   \n",
       "1  Argentina        9  Total area of the country         4100  1967  278040.0   \n",
       "2  Argentina        9  Total area of the country         4100  1972  278040.0   \n",
       "3  Argentina        9  Total area of the country         4100  1977  278040.0   \n",
       "4  Argentina        9  Total area of the country         4100  1982  278040.0   \n",
       "5  Argentina        9  Total area of the country         4100  1987  278040.0   \n",
       "6  Argentina        9  Total area of the country         4100  1992  278040.0   \n",
       "7  Argentina        9  Total area of the country         4100  1997  278040.0   \n",
       "8  Argentina        9  Total area of the country         4100  2002  278040.0   \n",
       "9  Argentina        9  Total area of the country         4100  2007  278040.0   \n",
       "\n",
       "  Symbol  \n",
       "0      E  \n",
       "1      E  \n",
       "2      E  \n",
       "3      E  \n",
       "4      E  \n",
       "5      E  \n",
       "6      E  \n",
       "7      E  \n",
       "8      E  \n",
       "9      E  "
      ]
     },
     "execution_count": 154,
     "metadata": {},
     "output_type": "execute_result"
    }
   ],
   "source": [
    "df.head(10)"
   ]
  },
  {
   "cell_type": "markdown",
   "metadata": {},
   "source": [
    "#### 4b) Display the column names."
   ]
  },
  {
   "cell_type": "code",
   "execution_count": 155,
   "metadata": {},
   "outputs": [
    {
     "name": "stdout",
     "output_type": "stream",
     "text": [
      "Area\n",
      "Area Id\n",
      "Variable Name\n",
      "Variable Id\n",
      "Year\n",
      "Value\n",
      "Symbol\n"
     ]
    }
   ],
   "source": [
    "for col in df.columns:\n",
    "    print(col)"
   ]
  },
  {
   "cell_type": "markdown",
   "metadata": {},
   "source": [
    "#### 4c) Use iloc to display the first 3 rows and first 4 columns."
   ]
  },
  {
   "cell_type": "code",
   "execution_count": 156,
   "metadata": {},
   "outputs": [
    {
     "data": {
      "text/html": [
       "<div>\n",
       "<style scoped>\n",
       "    .dataframe tbody tr th:only-of-type {\n",
       "        vertical-align: middle;\n",
       "    }\n",
       "\n",
       "    .dataframe tbody tr th {\n",
       "        vertical-align: top;\n",
       "    }\n",
       "\n",
       "    .dataframe thead th {\n",
       "        text-align: right;\n",
       "    }\n",
       "</style>\n",
       "<table border=\"1\" class=\"dataframe\">\n",
       "  <thead>\n",
       "    <tr style=\"text-align: right;\">\n",
       "      <th></th>\n",
       "      <th>Area</th>\n",
       "      <th>Area Id</th>\n",
       "      <th>Variable Name</th>\n",
       "      <th>Variable Id</th>\n",
       "    </tr>\n",
       "  </thead>\n",
       "  <tbody>\n",
       "    <tr>\n",
       "      <td>0</td>\n",
       "      <td>Argentina</td>\n",
       "      <td>9</td>\n",
       "      <td>Total area of the country</td>\n",
       "      <td>4100</td>\n",
       "    </tr>\n",
       "    <tr>\n",
       "      <td>1</td>\n",
       "      <td>Argentina</td>\n",
       "      <td>9</td>\n",
       "      <td>Total area of the country</td>\n",
       "      <td>4100</td>\n",
       "    </tr>\n",
       "    <tr>\n",
       "      <td>2</td>\n",
       "      <td>Argentina</td>\n",
       "      <td>9</td>\n",
       "      <td>Total area of the country</td>\n",
       "      <td>4100</td>\n",
       "    </tr>\n",
       "  </tbody>\n",
       "</table>\n",
       "</div>"
      ],
      "text/plain": [
       "        Area  Area Id              Variable Name  Variable Id\n",
       "0  Argentina        9  Total area of the country         4100\n",
       "1  Argentina        9  Total area of the country         4100\n",
       "2  Argentina        9  Total area of the country         4100"
      ]
     },
     "execution_count": 156,
     "metadata": {},
     "output_type": "execute_result"
    }
   ],
   "source": [
    "df.iloc[:3,:4]"
   ]
  },
  {
   "cell_type": "markdown",
   "metadata": {},
   "source": [
    "\n",
    "\n",
    "## Data Preprocessing\n",
    "\n",
    "#### 5a ) Find all the rows that  have 'NaN' in the 'Symbol' column. Display the first 5 rows of this result.\n",
    "\n",
    "##### Hint : You might have to use a condition (mask)"
   ]
  },
  {
   "cell_type": "code",
   "execution_count": 157,
   "metadata": {},
   "outputs": [
    {
     "data": {
      "text/html": [
       "<div>\n",
       "<style scoped>\n",
       "    .dataframe tbody tr th:only-of-type {\n",
       "        vertical-align: middle;\n",
       "    }\n",
       "\n",
       "    .dataframe tbody tr th {\n",
       "        vertical-align: top;\n",
       "    }\n",
       "\n",
       "    .dataframe thead th {\n",
       "        text-align: right;\n",
       "    }\n",
       "</style>\n",
       "<table border=\"1\" class=\"dataframe\">\n",
       "  <thead>\n",
       "    <tr style=\"text-align: right;\">\n",
       "      <th></th>\n",
       "      <th>Area</th>\n",
       "      <th>Area Id</th>\n",
       "      <th>Variable Name</th>\n",
       "      <th>Variable Id</th>\n",
       "      <th>Year</th>\n",
       "      <th>Value</th>\n",
       "      <th>Symbol</th>\n",
       "    </tr>\n",
       "  </thead>\n",
       "  <tbody>\n",
       "  </tbody>\n",
       "</table>\n",
       "</div>"
      ],
      "text/plain": [
       "Empty DataFrame\n",
       "Columns: [Area, Area Id, Variable Name, Variable Id, Year, Value, Symbol]\n",
       "Index: []"
      ]
     },
     "execution_count": 157,
     "metadata": {},
     "output_type": "execute_result"
    }
   ],
   "source": [
    "cut = df['Symbol'] == np.nan\n",
    "df[cut].head(5)"
   ]
  },
  {
   "cell_type": "markdown",
   "metadata": {},
   "source": [
    "#### 5b )  Now, we will try to get rid of the NaN valued rows and columns. \n",
    "\n",
    "1. First, drop the column 'Other' which only has 'NaN' values. \n",
    "2. Then drop all other rows that have any column with a value 'NaN'.  \n",
    "3. Then display the last 5 rows of the dataframe."
   ]
  },
  {
   "cell_type": "code",
   "execution_count": 161,
   "metadata": {},
   "outputs": [
    {
     "data": {
      "text/html": [
       "<div>\n",
       "<style scoped>\n",
       "    .dataframe tbody tr th:only-of-type {\n",
       "        vertical-align: middle;\n",
       "    }\n",
       "\n",
       "    .dataframe tbody tr th {\n",
       "        vertical-align: top;\n",
       "    }\n",
       "\n",
       "    .dataframe thead th {\n",
       "        text-align: right;\n",
       "    }\n",
       "</style>\n",
       "<table border=\"1\" class=\"dataframe\">\n",
       "  <thead>\n",
       "    <tr style=\"text-align: right;\">\n",
       "      <th></th>\n",
       "      <th>Area</th>\n",
       "      <th>Area Id</th>\n",
       "      <th>Variable Name</th>\n",
       "      <th>Variable Id</th>\n",
       "      <th>Year</th>\n",
       "      <th>Value</th>\n",
       "      <th>Symbol</th>\n",
       "    </tr>\n",
       "  </thead>\n",
       "  <tbody>\n",
       "    <tr>\n",
       "      <td>385</td>\n",
       "      <td>United States of America</td>\n",
       "      <td>231</td>\n",
       "      <td>National Rainfall Index (NRI)</td>\n",
       "      <td>4472</td>\n",
       "      <td>1981</td>\n",
       "      <td>949.2</td>\n",
       "      <td>E</td>\n",
       "    </tr>\n",
       "    <tr>\n",
       "      <td>386</td>\n",
       "      <td>United States of America</td>\n",
       "      <td>231</td>\n",
       "      <td>National Rainfall Index (NRI)</td>\n",
       "      <td>4472</td>\n",
       "      <td>1984</td>\n",
       "      <td>974.6</td>\n",
       "      <td>E</td>\n",
       "    </tr>\n",
       "    <tr>\n",
       "      <td>387</td>\n",
       "      <td>United States of America</td>\n",
       "      <td>231</td>\n",
       "      <td>National Rainfall Index (NRI)</td>\n",
       "      <td>4472</td>\n",
       "      <td>1992</td>\n",
       "      <td>1020.0</td>\n",
       "      <td>E</td>\n",
       "    </tr>\n",
       "    <tr>\n",
       "      <td>388</td>\n",
       "      <td>United States of America</td>\n",
       "      <td>231</td>\n",
       "      <td>National Rainfall Index (NRI)</td>\n",
       "      <td>4472</td>\n",
       "      <td>1996</td>\n",
       "      <td>1005.0</td>\n",
       "      <td>E</td>\n",
       "    </tr>\n",
       "    <tr>\n",
       "      <td>389</td>\n",
       "      <td>United States of America</td>\n",
       "      <td>231</td>\n",
       "      <td>National Rainfall Index (NRI)</td>\n",
       "      <td>4472</td>\n",
       "      <td>2002</td>\n",
       "      <td>938.7</td>\n",
       "      <td>E</td>\n",
       "    </tr>\n",
       "  </tbody>\n",
       "</table>\n",
       "</div>"
      ],
      "text/plain": [
       "                         Area  Area Id                  Variable Name  \\\n",
       "385  United States of America      231  National Rainfall Index (NRI)   \n",
       "386  United States of America      231  National Rainfall Index (NRI)   \n",
       "387  United States of America      231  National Rainfall Index (NRI)   \n",
       "388  United States of America      231  National Rainfall Index (NRI)   \n",
       "389  United States of America      231  National Rainfall Index (NRI)   \n",
       "\n",
       "     Variable Id  Year   Value Symbol  \n",
       "385         4472  1981   949.2      E  \n",
       "386         4472  1984   974.6      E  \n",
       "387         4472  1992  1020.0      E  \n",
       "388         4472  1996  1005.0      E  \n",
       "389         4472  2002   938.7      E  "
      ]
     },
     "execution_count": 161,
     "metadata": {},
     "output_type": "execute_result"
    }
   ],
   "source": [
    "# your code here\n",
    "df.drop('Other', axis = 1, inplace=True)\n",
    "df.dropna(axis=0).tail(5)"
   ]
  },
  {
   "cell_type": "markdown",
   "metadata": {},
   "source": [
    "\n",
    "\n",
    "\n",
    "#### 6a) For our analysis we do not want all the columns in our dataframe. Lets  drop all the redundant columns/ features.   \n",
    "**Drop columns**: **Area Id, Variable Id, Symbol**. Save the new dataframe as `df1`. \n",
    "\n",
    "\n",
    "Display the first 5 rows of the new dataframe.\n"
   ]
  },
  {
   "cell_type": "code",
   "execution_count": 164,
   "metadata": {},
   "outputs": [
    {
     "data": {
      "text/html": [
       "<div>\n",
       "<style scoped>\n",
       "    .dataframe tbody tr th:only-of-type {\n",
       "        vertical-align: middle;\n",
       "    }\n",
       "\n",
       "    .dataframe tbody tr th {\n",
       "        vertical-align: top;\n",
       "    }\n",
       "\n",
       "    .dataframe thead th {\n",
       "        text-align: right;\n",
       "    }\n",
       "</style>\n",
       "<table border=\"1\" class=\"dataframe\">\n",
       "  <thead>\n",
       "    <tr style=\"text-align: right;\">\n",
       "      <th></th>\n",
       "      <th>Area</th>\n",
       "      <th>Variable Name</th>\n",
       "      <th>Year</th>\n",
       "      <th>Value</th>\n",
       "    </tr>\n",
       "  </thead>\n",
       "  <tbody>\n",
       "    <tr>\n",
       "      <td>0</td>\n",
       "      <td>Argentina</td>\n",
       "      <td>Total area of the country</td>\n",
       "      <td>1962</td>\n",
       "      <td>278040.0</td>\n",
       "    </tr>\n",
       "    <tr>\n",
       "      <td>1</td>\n",
       "      <td>Argentina</td>\n",
       "      <td>Total area of the country</td>\n",
       "      <td>1967</td>\n",
       "      <td>278040.0</td>\n",
       "    </tr>\n",
       "    <tr>\n",
       "      <td>2</td>\n",
       "      <td>Argentina</td>\n",
       "      <td>Total area of the country</td>\n",
       "      <td>1972</td>\n",
       "      <td>278040.0</td>\n",
       "    </tr>\n",
       "    <tr>\n",
       "      <td>3</td>\n",
       "      <td>Argentina</td>\n",
       "      <td>Total area of the country</td>\n",
       "      <td>1977</td>\n",
       "      <td>278040.0</td>\n",
       "    </tr>\n",
       "    <tr>\n",
       "      <td>4</td>\n",
       "      <td>Argentina</td>\n",
       "      <td>Total area of the country</td>\n",
       "      <td>1982</td>\n",
       "      <td>278040.0</td>\n",
       "    </tr>\n",
       "  </tbody>\n",
       "</table>\n",
       "</div>"
      ],
      "text/plain": [
       "        Area              Variable Name  Year     Value\n",
       "0  Argentina  Total area of the country  1962  278040.0\n",
       "1  Argentina  Total area of the country  1967  278040.0\n",
       "2  Argentina  Total area of the country  1972  278040.0\n",
       "3  Argentina  Total area of the country  1977  278040.0\n",
       "4  Argentina  Total area of the country  1982  278040.0"
      ]
     },
     "execution_count": 164,
     "metadata": {},
     "output_type": "execute_result"
    }
   ],
   "source": [
    "# your code here\n",
    "df1 = df.drop(['Area Id', 'Variable Id', 'Symbol'], axis = 1)\n",
    "df1.head()"
   ]
  },
  {
   "cell_type": "markdown",
   "metadata": {},
   "source": [
    "#### 6b) Find all unique values in your new dataframe for columns: \n",
    "1. Area\n",
    "2. Variable Name\n",
    "3. Year"
   ]
  },
  {
   "cell_type": "code",
   "execution_count": 168,
   "metadata": {},
   "outputs": [
    {
     "name": "stdout",
     "output_type": "stream",
     "text": [
      "['Argentina' 'Australia' 'Germany' 'Iceland' 'Ireland' 'Sweden'\n",
      " 'United States of America']\n",
      "['Total area of the country' 'Total population' 'Population density'\n",
      " 'Gross Domestic Product (GDP)' 'National Rainfall Index (NRI)']\n",
      "[1962 1967 1972 1977 1982 1987 1992 1997 2002 2007 2012 2014 2015 1963\n",
      " 1970 1974 1978 1984 1990 1964 1981 1985 1996 2001 1969 1973 1979 1993\n",
      " 1971 1975 1986 1991 1998 2000 1965 1983 1988 1995]\n"
     ]
    }
   ],
   "source": [
    "# your code here\n",
    "print(pd.unique(df1['Area']))\n",
    "print(pd.unique(df1['Variable Name']))\n",
    "print(pd.unique(df1['Year']))"
   ]
  },
  {
   "cell_type": "markdown",
   "metadata": {},
   "source": [
    "#### 6c) Convert the `Year` column to pandas datetime objects \n",
    "\n",
    "1. Convert the `Year` column float values to pandas datetime objects, where each year is represented as the first day of that year. Also display the column and datatype for `Year` after conversion.\n",
    "\n",
    "\n",
    "For eg: `1962.0` will be represented as `1962-01-01`\n"
   ]
  },
  {
   "cell_type": "code",
   "execution_count": 200,
   "metadata": {},
   "outputs": [
    {
     "data": {
      "text/plain": [
       "0     1970-01-01 00:00:00.000001962\n",
       "1     1970-01-01 00:00:00.000001967\n",
       "2     1970-01-01 00:00:00.000001972\n",
       "3     1970-01-01 00:00:00.000001977\n",
       "4     1970-01-01 00:00:00.000001982\n",
       "                   ...             \n",
       "385   1970-01-01 00:00:00.000001981\n",
       "386   1970-01-01 00:00:00.000001984\n",
       "387   1970-01-01 00:00:00.000001992\n",
       "388   1970-01-01 00:00:00.000001996\n",
       "389   1970-01-01 00:00:00.000002002\n",
       "Name: Year, Length: 390, dtype: datetime64[ns]"
      ]
     },
     "execution_count": 200,
     "metadata": {},
     "output_type": "execute_result"
    }
   ],
   "source": [
    "df1['Year'] = pd.to_datetime(df1['Year'])\n",
    "df1['Year'].dtype\n",
    "df1['Year']"
   ]
  },
  {
   "cell_type": "markdown",
   "metadata": {},
   "source": [
    "## Extract specific statistics from the preprocessed data:\n",
    "\n",
    "#### 7a)  Create a dataframe `dftemp` to store rows where `Area` is `Iceland`.\n",
    "\n",
    "Display the dataframe `dftemp`."
   ]
  },
  {
   "cell_type": "code",
   "execution_count": 204,
   "metadata": {},
   "outputs": [
    {
     "name": "stdout",
     "output_type": "stream",
     "text": [
      "        Area  Area Id                  Variable Name  Variable Id  Year  \\\n",
      "166  Iceland       99      Total area of the country         4100  1962   \n",
      "167  Iceland       99      Total area of the country         4100  1967   \n",
      "168  Iceland       99      Total area of the country         4100  1972   \n",
      "169  Iceland       99      Total area of the country         4100  1977   \n",
      "170  Iceland       99      Total area of the country         4100  1982   \n",
      "171  Iceland       99      Total area of the country         4100  1987   \n",
      "172  Iceland       99      Total area of the country         4100  1992   \n",
      "173  Iceland       99      Total area of the country         4100  1997   \n",
      "174  Iceland       99      Total area of the country         4100  2002   \n",
      "175  Iceland       99      Total area of the country         4100  2007   \n",
      "176  Iceland       99      Total area of the country         4100  2012   \n",
      "177  Iceland       99      Total area of the country         4100  2014   \n",
      "178  Iceland       99               Total population         4104  1962   \n",
      "179  Iceland       99               Total population         4104  1967   \n",
      "180  Iceland       99               Total population         4104  1972   \n",
      "181  Iceland       99               Total population         4104  1977   \n",
      "182  Iceland       99               Total population         4104  1982   \n",
      "183  Iceland       99               Total population         4104  1987   \n",
      "184  Iceland       99               Total population         4104  1992   \n",
      "185  Iceland       99               Total population         4104  1997   \n",
      "186  Iceland       99               Total population         4104  2002   \n",
      "187  Iceland       99               Total population         4104  2007   \n",
      "188  Iceland       99               Total population         4104  2012   \n",
      "189  Iceland       99               Total population         4104  2015   \n",
      "190  Iceland       99             Population density         4107  1962   \n",
      "191  Iceland       99             Population density         4107  1967   \n",
      "192  Iceland       99             Population density         4107  1972   \n",
      "193  Iceland       99             Population density         4107  1977   \n",
      "194  Iceland       99             Population density         4107  1982   \n",
      "195  Iceland       99             Population density         4107  1987   \n",
      "196  Iceland       99             Population density         4107  1992   \n",
      "197  Iceland       99             Population density         4107  1997   \n",
      "198  Iceland       99             Population density         4107  2002   \n",
      "199  Iceland       99             Population density         4107  2007   \n",
      "200  Iceland       99             Population density         4107  2012   \n",
      "201  Iceland       99             Population density         4107  2015   \n",
      "202  Iceland       99   Gross Domestic Product (GDP)         4112  1962   \n",
      "203  Iceland       99   Gross Domestic Product (GDP)         4112  1967   \n",
      "204  Iceland       99   Gross Domestic Product (GDP)         4112  1972   \n",
      "205  Iceland       99   Gross Domestic Product (GDP)         4112  1977   \n",
      "206  Iceland       99   Gross Domestic Product (GDP)         4112  1982   \n",
      "207  Iceland       99   Gross Domestic Product (GDP)         4112  1987   \n",
      "208  Iceland       99   Gross Domestic Product (GDP)         4112  1992   \n",
      "209  Iceland       99   Gross Domestic Product (GDP)         4112  1997   \n",
      "210  Iceland       99   Gross Domestic Product (GDP)         4112  2002   \n",
      "211  Iceland       99   Gross Domestic Product (GDP)         4112  2007   \n",
      "212  Iceland       99   Gross Domestic Product (GDP)         4112  2012   \n",
      "213  Iceland       99   Gross Domestic Product (GDP)         4112  2015   \n",
      "214  Iceland       99  National Rainfall Index (NRI)         4472  1967   \n",
      "215  Iceland       99  National Rainfall Index (NRI)         4472  1971   \n",
      "216  Iceland       99  National Rainfall Index (NRI)         4472  1975   \n",
      "217  Iceland       99  National Rainfall Index (NRI)         4472  1981   \n",
      "218  Iceland       99  National Rainfall Index (NRI)         4472  1986   \n",
      "219  Iceland       99  National Rainfall Index (NRI)         4472  1991   \n",
      "220  Iceland       99  National Rainfall Index (NRI)         4472  1997   \n",
      "221  Iceland       99  National Rainfall Index (NRI)         4472  1998   \n",
      "\n",
      "            Value Symbol  \n",
      "166  1.030000e+04      E  \n",
      "167  1.030000e+04      E  \n",
      "168  1.030000e+04      E  \n",
      "169  1.030000e+04      E  \n",
      "170  1.030000e+04      E  \n",
      "171  1.030000e+04      E  \n",
      "172  1.030000e+04      E  \n",
      "173  1.030000e+04      E  \n",
      "174  1.030000e+04      E  \n",
      "175  1.030000e+04      E  \n",
      "176  1.030000e+04      E  \n",
      "177  1.030000e+04      E  \n",
      "178  1.826000e+02      E  \n",
      "179  1.974000e+02      E  \n",
      "180  2.099000e+02      E  \n",
      "181  2.221000e+02      E  \n",
      "182  2.331000e+02      E  \n",
      "183  2.469000e+02      E  \n",
      "184  2.599000e+02      E  \n",
      "185  2.728000e+02      E  \n",
      "186  2.869000e+02      E  \n",
      "187  3.054000e+02      E  \n",
      "188  3.234000e+02      E  \n",
      "189  3.294000e+02      E  \n",
      "190  1.773000e+00      E  \n",
      "191  1.917000e+00      E  \n",
      "192  2.038000e+00      E  \n",
      "193  2.156000e+00      E  \n",
      "194  2.263000e+00      E  \n",
      "195  2.397000e+00      E  \n",
      "196  2.523000e+00      E  \n",
      "197  2.649000e+00      E  \n",
      "198  2.785000e+00      E  \n",
      "199  2.965000e+00      E  \n",
      "200  3.140000e+00      E  \n",
      "201  3.198000e+00      E  \n",
      "202  2.849165e+08      E  \n",
      "203  6.212260e+08      E  \n",
      "204  8.465069e+08      E  \n",
      "205  2.226539e+09      E  \n",
      "206  3.232804e+09      E  \n",
      "207  5.565384e+09      E  \n",
      "208  7.138788e+09      E  \n",
      "209  7.596126e+09      E  \n",
      "210  9.161798e+09      E  \n",
      "211  2.129384e+10      E  \n",
      "212  1.419452e+10      E  \n",
      "213  1.659849e+10      E  \n",
      "214  8.160000e+02      E  \n",
      "215  9.632000e+02      E  \n",
      "216  1.010000e+03      E  \n",
      "217  9.326000e+02      E  \n",
      "218  9.685000e+02      E  \n",
      "219  1.095000e+03      E  \n",
      "220  9.932000e+02      E  \n",
      "221  9.234000e+02      E  \n"
     ]
    }
   ],
   "source": [
    "# your code here\n",
    "dftemp = df[df['Area'] == 'Iceland']\n",
    "print(dftemp)"
   ]
  },
  {
   "cell_type": "markdown",
   "metadata": {},
   "source": [
    "#### 7b) Print the years when the `National Rainfall Index (NRI)` was greater than 900 and less than 950 in Iceland. \n",
    "\n",
    "Use the dataframe you created in the previous question 7a), ie `dftemp`. "
   ]
  },
  {
   "cell_type": "code",
   "execution_count": 205,
   "metadata": {},
   "outputs": [
    {
     "ename": "KeyError",
     "evalue": "'National Rainfall Index (NRI)'",
     "output_type": "error",
     "traceback": [
      "\u001b[0;31m---------------------------------------------------------------------------\u001b[0m",
      "\u001b[0;31mKeyError\u001b[0m                                  Traceback (most recent call last)",
      "\u001b[0;32m~/anaconda3/lib/python3.7/site-packages/pandas/core/indexes/base.py\u001b[0m in \u001b[0;36mget_loc\u001b[0;34m(self, key, method, tolerance)\u001b[0m\n\u001b[1;32m   2896\u001b[0m             \u001b[0;32mtry\u001b[0m\u001b[0;34m:\u001b[0m\u001b[0;34m\u001b[0m\u001b[0;34m\u001b[0m\u001b[0m\n\u001b[0;32m-> 2897\u001b[0;31m                 \u001b[0;32mreturn\u001b[0m \u001b[0mself\u001b[0m\u001b[0;34m.\u001b[0m\u001b[0m_engine\u001b[0m\u001b[0;34m.\u001b[0m\u001b[0mget_loc\u001b[0m\u001b[0;34m(\u001b[0m\u001b[0mkey\u001b[0m\u001b[0;34m)\u001b[0m\u001b[0;34m\u001b[0m\u001b[0;34m\u001b[0m\u001b[0m\n\u001b[0m\u001b[1;32m   2898\u001b[0m             \u001b[0;32mexcept\u001b[0m \u001b[0mKeyError\u001b[0m\u001b[0;34m:\u001b[0m\u001b[0;34m\u001b[0m\u001b[0;34m\u001b[0m\u001b[0m\n",
      "\u001b[0;32mpandas/_libs/index.pyx\u001b[0m in \u001b[0;36mpandas._libs.index.IndexEngine.get_loc\u001b[0;34m()\u001b[0m\n",
      "\u001b[0;32mpandas/_libs/index.pyx\u001b[0m in \u001b[0;36mpandas._libs.index.IndexEngine.get_loc\u001b[0;34m()\u001b[0m\n",
      "\u001b[0;32mpandas/_libs/hashtable_class_helper.pxi\u001b[0m in \u001b[0;36mpandas._libs.hashtable.PyObjectHashTable.get_item\u001b[0;34m()\u001b[0m\n",
      "\u001b[0;32mpandas/_libs/hashtable_class_helper.pxi\u001b[0m in \u001b[0;36mpandas._libs.hashtable.PyObjectHashTable.get_item\u001b[0;34m()\u001b[0m\n",
      "\u001b[0;31mKeyError\u001b[0m: 'National Rainfall Index (NRI)'",
      "\nDuring handling of the above exception, another exception occurred:\n",
      "\u001b[0;31mKeyError\u001b[0m                                  Traceback (most recent call last)",
      "\u001b[0;32m<ipython-input-205-9c7a99410a61>\u001b[0m in \u001b[0;36m<module>\u001b[0;34m\u001b[0m\n\u001b[1;32m      1\u001b[0m \u001b[0;31m# your code here\u001b[0m\u001b[0;34m\u001b[0m\u001b[0;34m\u001b[0m\u001b[0;34m\u001b[0m\u001b[0m\n\u001b[0;32m----> 2\u001b[0;31m \u001b[0mdftemp\u001b[0m\u001b[0;34m[\u001b[0m\u001b[0mdftemp\u001b[0m\u001b[0;34m[\u001b[0m\u001b[0;34m'National Rainfall Index (NRI)'\u001b[0m\u001b[0;34m]\u001b[0m \u001b[0;34m>\u001b[0m \u001b[0;36m900\u001b[0m \u001b[0;32mand\u001b[0m \u001b[0mdftemp\u001b[0m\u001b[0;34m[\u001b[0m\u001b[0;34m'National Rainfall Index (NRI)'\u001b[0m\u001b[0;34m]\u001b[0m \u001b[0;34m<\u001b[0m \u001b[0;36m950\u001b[0m\u001b[0;34m]\u001b[0m\u001b[0;34m\u001b[0m\u001b[0;34m\u001b[0m\u001b[0m\n\u001b[0m",
      "\u001b[0;32m~/anaconda3/lib/python3.7/site-packages/pandas/core/frame.py\u001b[0m in \u001b[0;36m__getitem__\u001b[0;34m(self, key)\u001b[0m\n\u001b[1;32m   2978\u001b[0m             \u001b[0;32mif\u001b[0m \u001b[0mself\u001b[0m\u001b[0;34m.\u001b[0m\u001b[0mcolumns\u001b[0m\u001b[0;34m.\u001b[0m\u001b[0mnlevels\u001b[0m \u001b[0;34m>\u001b[0m \u001b[0;36m1\u001b[0m\u001b[0;34m:\u001b[0m\u001b[0;34m\u001b[0m\u001b[0;34m\u001b[0m\u001b[0m\n\u001b[1;32m   2979\u001b[0m                 \u001b[0;32mreturn\u001b[0m \u001b[0mself\u001b[0m\u001b[0;34m.\u001b[0m\u001b[0m_getitem_multilevel\u001b[0m\u001b[0;34m(\u001b[0m\u001b[0mkey\u001b[0m\u001b[0;34m)\u001b[0m\u001b[0;34m\u001b[0m\u001b[0;34m\u001b[0m\u001b[0m\n\u001b[0;32m-> 2980\u001b[0;31m             \u001b[0mindexer\u001b[0m \u001b[0;34m=\u001b[0m \u001b[0mself\u001b[0m\u001b[0;34m.\u001b[0m\u001b[0mcolumns\u001b[0m\u001b[0;34m.\u001b[0m\u001b[0mget_loc\u001b[0m\u001b[0;34m(\u001b[0m\u001b[0mkey\u001b[0m\u001b[0;34m)\u001b[0m\u001b[0;34m\u001b[0m\u001b[0;34m\u001b[0m\u001b[0m\n\u001b[0m\u001b[1;32m   2981\u001b[0m             \u001b[0;32mif\u001b[0m \u001b[0mis_integer\u001b[0m\u001b[0;34m(\u001b[0m\u001b[0mindexer\u001b[0m\u001b[0;34m)\u001b[0m\u001b[0;34m:\u001b[0m\u001b[0;34m\u001b[0m\u001b[0;34m\u001b[0m\u001b[0m\n\u001b[1;32m   2982\u001b[0m                 \u001b[0mindexer\u001b[0m \u001b[0;34m=\u001b[0m \u001b[0;34m[\u001b[0m\u001b[0mindexer\u001b[0m\u001b[0;34m]\u001b[0m\u001b[0;34m\u001b[0m\u001b[0;34m\u001b[0m\u001b[0m\n",
      "\u001b[0;32m~/anaconda3/lib/python3.7/site-packages/pandas/core/indexes/base.py\u001b[0m in \u001b[0;36mget_loc\u001b[0;34m(self, key, method, tolerance)\u001b[0m\n\u001b[1;32m   2897\u001b[0m                 \u001b[0;32mreturn\u001b[0m \u001b[0mself\u001b[0m\u001b[0;34m.\u001b[0m\u001b[0m_engine\u001b[0m\u001b[0;34m.\u001b[0m\u001b[0mget_loc\u001b[0m\u001b[0;34m(\u001b[0m\u001b[0mkey\u001b[0m\u001b[0;34m)\u001b[0m\u001b[0;34m\u001b[0m\u001b[0;34m\u001b[0m\u001b[0m\n\u001b[1;32m   2898\u001b[0m             \u001b[0;32mexcept\u001b[0m \u001b[0mKeyError\u001b[0m\u001b[0;34m:\u001b[0m\u001b[0;34m\u001b[0m\u001b[0;34m\u001b[0m\u001b[0m\n\u001b[0;32m-> 2899\u001b[0;31m                 \u001b[0;32mreturn\u001b[0m \u001b[0mself\u001b[0m\u001b[0;34m.\u001b[0m\u001b[0m_engine\u001b[0m\u001b[0;34m.\u001b[0m\u001b[0mget_loc\u001b[0m\u001b[0;34m(\u001b[0m\u001b[0mself\u001b[0m\u001b[0;34m.\u001b[0m\u001b[0m_maybe_cast_indexer\u001b[0m\u001b[0;34m(\u001b[0m\u001b[0mkey\u001b[0m\u001b[0;34m)\u001b[0m\u001b[0;34m)\u001b[0m\u001b[0;34m\u001b[0m\u001b[0;34m\u001b[0m\u001b[0m\n\u001b[0m\u001b[1;32m   2900\u001b[0m         \u001b[0mindexer\u001b[0m \u001b[0;34m=\u001b[0m \u001b[0mself\u001b[0m\u001b[0;34m.\u001b[0m\u001b[0mget_indexer\u001b[0m\u001b[0;34m(\u001b[0m\u001b[0;34m[\u001b[0m\u001b[0mkey\u001b[0m\u001b[0;34m]\u001b[0m\u001b[0;34m,\u001b[0m \u001b[0mmethod\u001b[0m\u001b[0;34m=\u001b[0m\u001b[0mmethod\u001b[0m\u001b[0;34m,\u001b[0m \u001b[0mtolerance\u001b[0m\u001b[0;34m=\u001b[0m\u001b[0mtolerance\u001b[0m\u001b[0;34m)\u001b[0m\u001b[0;34m\u001b[0m\u001b[0;34m\u001b[0m\u001b[0m\n\u001b[1;32m   2901\u001b[0m         \u001b[0;32mif\u001b[0m \u001b[0mindexer\u001b[0m\u001b[0;34m.\u001b[0m\u001b[0mndim\u001b[0m \u001b[0;34m>\u001b[0m \u001b[0;36m1\u001b[0m \u001b[0;32mor\u001b[0m \u001b[0mindexer\u001b[0m\u001b[0;34m.\u001b[0m\u001b[0msize\u001b[0m \u001b[0;34m>\u001b[0m \u001b[0;36m1\u001b[0m\u001b[0;34m:\u001b[0m\u001b[0;34m\u001b[0m\u001b[0;34m\u001b[0m\u001b[0m\n",
      "\u001b[0;32mpandas/_libs/index.pyx\u001b[0m in \u001b[0;36mpandas._libs.index.IndexEngine.get_loc\u001b[0;34m()\u001b[0m\n",
      "\u001b[0;32mpandas/_libs/index.pyx\u001b[0m in \u001b[0;36mpandas._libs.index.IndexEngine.get_loc\u001b[0;34m()\u001b[0m\n",
      "\u001b[0;32mpandas/_libs/hashtable_class_helper.pxi\u001b[0m in \u001b[0;36mpandas._libs.hashtable.PyObjectHashTable.get_item\u001b[0;34m()\u001b[0m\n",
      "\u001b[0;32mpandas/_libs/hashtable_class_helper.pxi\u001b[0m in \u001b[0;36mpandas._libs.hashtable.PyObjectHashTable.get_item\u001b[0;34m()\u001b[0m\n",
      "\u001b[0;31mKeyError\u001b[0m: 'National Rainfall Index (NRI)'"
     ]
    }
   ],
   "source": [
    "# your code here\n",
    "dftemp[dftemp['National Rainfall Index (NRI)'] > 900 and dftemp['National Rainfall Index (NRI)'] < 950]"
   ]
  },
  {
   "cell_type": "markdown",
   "metadata": {},
   "source": [
    "## US statistics: \n"
   ]
  },
  {
   "cell_type": "markdown",
   "metadata": {},
   "source": [
    "#### 8a) Create a new DataFrame called `df_usa` that only contains values where `Area` is equal to `United States of America`. \n",
    "\n",
    "Set the indices of `df_usa` to be the `Year` column with Pandas datetime values ( Use method `.set_index( )` ). Display the head of `df_usa`."
   ]
  },
  {
   "cell_type": "code",
   "execution_count": 317,
   "metadata": {},
   "outputs": [],
   "source": [
    "# your code here\n",
    "df_usa = df[df['Area'] == 'United States of America']\n",
    "df_usa.set_index('Year')\n",
    "df_usa.head()\n",
    "df_temp = df_usa"
   ]
  },
  {
   "cell_type": "markdown",
   "metadata": {},
   "source": [
    "\n",
    "#### 8b) Pivot the DataFrame `df_usa` so that the unique values in the column `Variable Name` becomes the columns. \n",
    "\n",
    "The DataFrame values should be the ones in the the `Value` column. Save it as `df_usa` and display the updated dataframe head."
   ]
  },
  {
   "cell_type": "code",
   "execution_count": 285,
   "metadata": {},
   "outputs": [
    {
     "data": {
      "text/html": [
       "<div>\n",
       "<style scoped>\n",
       "    .dataframe tbody tr th:only-of-type {\n",
       "        vertical-align: middle;\n",
       "    }\n",
       "\n",
       "    .dataframe tbody tr th {\n",
       "        vertical-align: top;\n",
       "    }\n",
       "\n",
       "    .dataframe thead th {\n",
       "        text-align: right;\n",
       "    }\n",
       "</style>\n",
       "<table border=\"1\" class=\"dataframe\">\n",
       "  <thead>\n",
       "    <tr style=\"text-align: right;\">\n",
       "      <th>Variable Name</th>\n",
       "      <th>Gross Domestic Product (GDP)</th>\n",
       "      <th>National Rainfall Index (NRI)</th>\n",
       "      <th>Population density</th>\n",
       "      <th>Total area of the country</th>\n",
       "      <th>Total population</th>\n",
       "    </tr>\n",
       "  </thead>\n",
       "  <tbody>\n",
       "    <tr>\n",
       "      <td>334</td>\n",
       "      <td>NaN</td>\n",
       "      <td>NaN</td>\n",
       "      <td>NaN</td>\n",
       "      <td>962909.0</td>\n",
       "      <td>NaN</td>\n",
       "    </tr>\n",
       "    <tr>\n",
       "      <td>335</td>\n",
       "      <td>NaN</td>\n",
       "      <td>NaN</td>\n",
       "      <td>NaN</td>\n",
       "      <td>962909.0</td>\n",
       "      <td>NaN</td>\n",
       "    </tr>\n",
       "    <tr>\n",
       "      <td>336</td>\n",
       "      <td>NaN</td>\n",
       "      <td>NaN</td>\n",
       "      <td>NaN</td>\n",
       "      <td>962909.0</td>\n",
       "      <td>NaN</td>\n",
       "    </tr>\n",
       "    <tr>\n",
       "      <td>337</td>\n",
       "      <td>NaN</td>\n",
       "      <td>NaN</td>\n",
       "      <td>NaN</td>\n",
       "      <td>962909.0</td>\n",
       "      <td>NaN</td>\n",
       "    </tr>\n",
       "    <tr>\n",
       "      <td>338</td>\n",
       "      <td>NaN</td>\n",
       "      <td>NaN</td>\n",
       "      <td>NaN</td>\n",
       "      <td>962909.0</td>\n",
       "      <td>NaN</td>\n",
       "    </tr>\n",
       "  </tbody>\n",
       "</table>\n",
       "</div>"
      ],
      "text/plain": [
       "Variable Name  Gross Domestic Product (GDP)  National Rainfall Index (NRI)  \\\n",
       "334                                     NaN                            NaN   \n",
       "335                                     NaN                            NaN   \n",
       "336                                     NaN                            NaN   \n",
       "337                                     NaN                            NaN   \n",
       "338                                     NaN                            NaN   \n",
       "\n",
       "Variable Name  Population density  Total area of the country  Total population  \n",
       "334                           NaN                   962909.0               NaN  \n",
       "335                           NaN                   962909.0               NaN  \n",
       "336                           NaN                   962909.0               NaN  \n",
       "337                           NaN                   962909.0               NaN  \n",
       "338                           NaN                   962909.0               NaN  "
      ]
     },
     "execution_count": 285,
     "metadata": {},
     "output_type": "execute_result"
    }
   ],
   "source": [
    "# your code here\n",
    "# cols = []\n",
    "# cols.extend(pd.unique(df_usa['Variable Name']))\n",
    "df_usa = df_usa.pivot(columns ='Variable Name', values = 'Value')\n",
    "df_usa.head()"
   ]
  },
  {
   "cell_type": "markdown",
   "metadata": {},
   "source": [
    "#### 8c) Rename the new columns to  `['GDP','NRI','PD','Area','Population']`, display the dataframe head.\n"
   ]
  },
  {
   "cell_type": "code",
   "execution_count": 287,
   "metadata": {},
   "outputs": [
    {
     "data": {
      "text/html": [
       "<div>\n",
       "<style scoped>\n",
       "    .dataframe tbody tr th:only-of-type {\n",
       "        vertical-align: middle;\n",
       "    }\n",
       "\n",
       "    .dataframe tbody tr th {\n",
       "        vertical-align: top;\n",
       "    }\n",
       "\n",
       "    .dataframe thead th {\n",
       "        text-align: right;\n",
       "    }\n",
       "</style>\n",
       "<table border=\"1\" class=\"dataframe\">\n",
       "  <thead>\n",
       "    <tr style=\"text-align: right;\">\n",
       "      <th></th>\n",
       "      <th>GDP</th>\n",
       "      <th>NRI</th>\n",
       "      <th>PD</th>\n",
       "      <th>Area</th>\n",
       "      <th>Population</th>\n",
       "    </tr>\n",
       "  </thead>\n",
       "  <tbody>\n",
       "    <tr>\n",
       "      <td>334</td>\n",
       "      <td>NaN</td>\n",
       "      <td>NaN</td>\n",
       "      <td>NaN</td>\n",
       "      <td>962909.0</td>\n",
       "      <td>NaN</td>\n",
       "    </tr>\n",
       "    <tr>\n",
       "      <td>335</td>\n",
       "      <td>NaN</td>\n",
       "      <td>NaN</td>\n",
       "      <td>NaN</td>\n",
       "      <td>962909.0</td>\n",
       "      <td>NaN</td>\n",
       "    </tr>\n",
       "    <tr>\n",
       "      <td>336</td>\n",
       "      <td>NaN</td>\n",
       "      <td>NaN</td>\n",
       "      <td>NaN</td>\n",
       "      <td>962909.0</td>\n",
       "      <td>NaN</td>\n",
       "    </tr>\n",
       "    <tr>\n",
       "      <td>337</td>\n",
       "      <td>NaN</td>\n",
       "      <td>NaN</td>\n",
       "      <td>NaN</td>\n",
       "      <td>962909.0</td>\n",
       "      <td>NaN</td>\n",
       "    </tr>\n",
       "    <tr>\n",
       "      <td>338</td>\n",
       "      <td>NaN</td>\n",
       "      <td>NaN</td>\n",
       "      <td>NaN</td>\n",
       "      <td>962909.0</td>\n",
       "      <td>NaN</td>\n",
       "    </tr>\n",
       "  </tbody>\n",
       "</table>\n",
       "</div>"
      ],
      "text/plain": [
       "     GDP  NRI  PD      Area  Population\n",
       "334  NaN  NaN NaN  962909.0         NaN\n",
       "335  NaN  NaN NaN  962909.0         NaN\n",
       "336  NaN  NaN NaN  962909.0         NaN\n",
       "337  NaN  NaN NaN  962909.0         NaN\n",
       "338  NaN  NaN NaN  962909.0         NaN"
      ]
     },
     "execution_count": 287,
     "metadata": {},
     "output_type": "execute_result"
    }
   ],
   "source": [
    "# your code here\n",
    "df_usa.columns = ['GDP','NRI','PD','Area','Population']\n",
    "df_usa.head()"
   ]
  },
  {
   "cell_type": "markdown",
   "metadata": {},
   "source": [
    "#### 8d) Replace all 'Nan' values in `df_usa` with 0. Display the head of the dataframe."
   ]
  },
  {
   "cell_type": "code",
   "execution_count": 299,
   "metadata": {},
   "outputs": [],
   "source": [
    "# your code here\n",
    "df_usa = df_usa.fillna(0)"
   ]
  },
  {
   "cell_type": "markdown",
   "metadata": {},
   "source": [
    "## Note: Use `df_usa`\n",
    "\n",
    "#### 9a) Multiply the `'Area'` column for all countries by 10 (so instead of 1000 ha, the unit becomes 100 ha = 1km^2). Display the dataframe head.\n"
   ]
  },
  {
   "cell_type": "code",
   "execution_count": 300,
   "metadata": {},
   "outputs": [
    {
     "data": {
      "text/html": [
       "<div>\n",
       "<style scoped>\n",
       "    .dataframe tbody tr th:only-of-type {\n",
       "        vertical-align: middle;\n",
       "    }\n",
       "\n",
       "    .dataframe tbody tr th {\n",
       "        vertical-align: top;\n",
       "    }\n",
       "\n",
       "    .dataframe thead th {\n",
       "        text-align: right;\n",
       "    }\n",
       "</style>\n",
       "<table border=\"1\" class=\"dataframe\">\n",
       "  <thead>\n",
       "    <tr style=\"text-align: right;\">\n",
       "      <th></th>\n",
       "      <th>GDP</th>\n",
       "      <th>NRI</th>\n",
       "      <th>PD</th>\n",
       "      <th>Area</th>\n",
       "      <th>Population</th>\n",
       "    </tr>\n",
       "  </thead>\n",
       "  <tbody>\n",
       "    <tr>\n",
       "      <td>334</td>\n",
       "      <td>0.0</td>\n",
       "      <td>0.0</td>\n",
       "      <td>0.0</td>\n",
       "      <td>962909000.0</td>\n",
       "      <td>0.0</td>\n",
       "    </tr>\n",
       "    <tr>\n",
       "      <td>335</td>\n",
       "      <td>0.0</td>\n",
       "      <td>0.0</td>\n",
       "      <td>0.0</td>\n",
       "      <td>962909000.0</td>\n",
       "      <td>0.0</td>\n",
       "    </tr>\n",
       "    <tr>\n",
       "      <td>336</td>\n",
       "      <td>0.0</td>\n",
       "      <td>0.0</td>\n",
       "      <td>0.0</td>\n",
       "      <td>962909000.0</td>\n",
       "      <td>0.0</td>\n",
       "    </tr>\n",
       "    <tr>\n",
       "      <td>337</td>\n",
       "      <td>0.0</td>\n",
       "      <td>0.0</td>\n",
       "      <td>0.0</td>\n",
       "      <td>962909000.0</td>\n",
       "      <td>0.0</td>\n",
       "    </tr>\n",
       "    <tr>\n",
       "      <td>338</td>\n",
       "      <td>0.0</td>\n",
       "      <td>0.0</td>\n",
       "      <td>0.0</td>\n",
       "      <td>962909000.0</td>\n",
       "      <td>0.0</td>\n",
       "    </tr>\n",
       "  </tbody>\n",
       "</table>\n",
       "</div>"
      ],
      "text/plain": [
       "     GDP  NRI   PD         Area  Population\n",
       "334  0.0  0.0  0.0  962909000.0         0.0\n",
       "335  0.0  0.0  0.0  962909000.0         0.0\n",
       "336  0.0  0.0  0.0  962909000.0         0.0\n",
       "337  0.0  0.0  0.0  962909000.0         0.0\n",
       "338  0.0  0.0  0.0  962909000.0         0.0"
      ]
     },
     "execution_count": 300,
     "metadata": {},
     "output_type": "execute_result"
    }
   ],
   "source": [
    "# your code here\n",
    "df_usa['Area'] = df_usa['Area'] * 10\n",
    "df_usa.head()"
   ]
  },
  {
   "cell_type": "markdown",
   "metadata": {},
   "source": [
    "\n",
    "#### 9b) Create a new column in `df_usa` called `'GDP/capita'` and populate it with the calculated GDP per capita. Round the results to two decimal points. Display the dataframe head.\n",
    "GDP per capita = (GDP / Population)"
   ]
  },
  {
   "cell_type": "code",
   "execution_count": 301,
   "metadata": {},
   "outputs": [],
   "source": [
    "# your code here\n",
    "df_usa['GDP/capita'] = df_usa['GDP'] / df_usa['Population']"
   ]
  },
  {
   "cell_type": "markdown",
   "metadata": {},
   "source": [
    "\n",
    "#### 9c) Find the maximum value of the `'NRI'` column in the US (using pandas methods). What year does the max value occur? Display the values."
   ]
  },
  {
   "cell_type": "code",
   "execution_count": 319,
   "metadata": {},
   "outputs": [
    {
     "ename": "KeyError",
     "evalue": "'NRI'",
     "output_type": "error",
     "traceback": [
      "\u001b[0;31m---------------------------------------------------------------------------\u001b[0m",
      "\u001b[0;31mKeyError\u001b[0m                                  Traceback (most recent call last)",
      "\u001b[0;32m~/anaconda3/lib/python3.7/site-packages/pandas/core/indexes/base.py\u001b[0m in \u001b[0;36mget_loc\u001b[0;34m(self, key, method, tolerance)\u001b[0m\n\u001b[1;32m   2896\u001b[0m             \u001b[0;32mtry\u001b[0m\u001b[0;34m:\u001b[0m\u001b[0;34m\u001b[0m\u001b[0;34m\u001b[0m\u001b[0m\n\u001b[0;32m-> 2897\u001b[0;31m                 \u001b[0;32mreturn\u001b[0m \u001b[0mself\u001b[0m\u001b[0;34m.\u001b[0m\u001b[0m_engine\u001b[0m\u001b[0;34m.\u001b[0m\u001b[0mget_loc\u001b[0m\u001b[0;34m(\u001b[0m\u001b[0mkey\u001b[0m\u001b[0;34m)\u001b[0m\u001b[0;34m\u001b[0m\u001b[0;34m\u001b[0m\u001b[0m\n\u001b[0m\u001b[1;32m   2898\u001b[0m             \u001b[0;32mexcept\u001b[0m \u001b[0mKeyError\u001b[0m\u001b[0;34m:\u001b[0m\u001b[0;34m\u001b[0m\u001b[0;34m\u001b[0m\u001b[0m\n",
      "\u001b[0;32mpandas/_libs/index.pyx\u001b[0m in \u001b[0;36mpandas._libs.index.IndexEngine.get_loc\u001b[0;34m()\u001b[0m\n",
      "\u001b[0;32mpandas/_libs/index.pyx\u001b[0m in \u001b[0;36mpandas._libs.index.IndexEngine.get_loc\u001b[0;34m()\u001b[0m\n",
      "\u001b[0;32mpandas/_libs/hashtable_class_helper.pxi\u001b[0m in \u001b[0;36mpandas._libs.hashtable.PyObjectHashTable.get_item\u001b[0;34m()\u001b[0m\n",
      "\u001b[0;32mpandas/_libs/hashtable_class_helper.pxi\u001b[0m in \u001b[0;36mpandas._libs.hashtable.PyObjectHashTable.get_item\u001b[0;34m()\u001b[0m\n",
      "\u001b[0;31mKeyError\u001b[0m: 'NRI'",
      "\nDuring handling of the above exception, another exception occurred:\n",
      "\u001b[0;31mKeyError\u001b[0m                                  Traceback (most recent call last)",
      "\u001b[0;32m<ipython-input-319-f39a47914f4d>\u001b[0m in \u001b[0;36m<module>\u001b[0;34m\u001b[0m\n\u001b[1;32m      1\u001b[0m \u001b[0;31m# your code here\u001b[0m\u001b[0;34m\u001b[0m\u001b[0;34m\u001b[0m\u001b[0;34m\u001b[0m\u001b[0m\n\u001b[0;32m----> 2\u001b[0;31m \u001b[0mdf_usa\u001b[0m\u001b[0;34m[\u001b[0m\u001b[0;34m'NRI'\u001b[0m\u001b[0;34m]\u001b[0m\u001b[0;34m.\u001b[0m\u001b[0mmax\u001b[0m\u001b[0;34m(\u001b[0m\u001b[0;34m)\u001b[0m\u001b[0;34m\u001b[0m\u001b[0;34m\u001b[0m\u001b[0m\n\u001b[0m\u001b[1;32m      3\u001b[0m \u001b[0mdf_temp\u001b[0m\u001b[0;34m[\u001b[0m\u001b[0;34m'Year'\u001b[0m\u001b[0;34m]\u001b[0m\u001b[0;34m\u001b[0m\u001b[0;34m\u001b[0m\u001b[0m\n",
      "\u001b[0;32m~/anaconda3/lib/python3.7/site-packages/pandas/core/frame.py\u001b[0m in \u001b[0;36m__getitem__\u001b[0;34m(self, key)\u001b[0m\n\u001b[1;32m   2978\u001b[0m             \u001b[0;32mif\u001b[0m \u001b[0mself\u001b[0m\u001b[0;34m.\u001b[0m\u001b[0mcolumns\u001b[0m\u001b[0;34m.\u001b[0m\u001b[0mnlevels\u001b[0m \u001b[0;34m>\u001b[0m \u001b[0;36m1\u001b[0m\u001b[0;34m:\u001b[0m\u001b[0;34m\u001b[0m\u001b[0;34m\u001b[0m\u001b[0m\n\u001b[1;32m   2979\u001b[0m                 \u001b[0;32mreturn\u001b[0m \u001b[0mself\u001b[0m\u001b[0;34m.\u001b[0m\u001b[0m_getitem_multilevel\u001b[0m\u001b[0;34m(\u001b[0m\u001b[0mkey\u001b[0m\u001b[0;34m)\u001b[0m\u001b[0;34m\u001b[0m\u001b[0;34m\u001b[0m\u001b[0m\n\u001b[0;32m-> 2980\u001b[0;31m             \u001b[0mindexer\u001b[0m \u001b[0;34m=\u001b[0m \u001b[0mself\u001b[0m\u001b[0;34m.\u001b[0m\u001b[0mcolumns\u001b[0m\u001b[0;34m.\u001b[0m\u001b[0mget_loc\u001b[0m\u001b[0;34m(\u001b[0m\u001b[0mkey\u001b[0m\u001b[0;34m)\u001b[0m\u001b[0;34m\u001b[0m\u001b[0;34m\u001b[0m\u001b[0m\n\u001b[0m\u001b[1;32m   2981\u001b[0m             \u001b[0;32mif\u001b[0m \u001b[0mis_integer\u001b[0m\u001b[0;34m(\u001b[0m\u001b[0mindexer\u001b[0m\u001b[0;34m)\u001b[0m\u001b[0;34m:\u001b[0m\u001b[0;34m\u001b[0m\u001b[0;34m\u001b[0m\u001b[0m\n\u001b[1;32m   2982\u001b[0m                 \u001b[0mindexer\u001b[0m \u001b[0;34m=\u001b[0m \u001b[0;34m[\u001b[0m\u001b[0mindexer\u001b[0m\u001b[0;34m]\u001b[0m\u001b[0;34m\u001b[0m\u001b[0;34m\u001b[0m\u001b[0m\n",
      "\u001b[0;32m~/anaconda3/lib/python3.7/site-packages/pandas/core/indexes/base.py\u001b[0m in \u001b[0;36mget_loc\u001b[0;34m(self, key, method, tolerance)\u001b[0m\n\u001b[1;32m   2897\u001b[0m                 \u001b[0;32mreturn\u001b[0m \u001b[0mself\u001b[0m\u001b[0;34m.\u001b[0m\u001b[0m_engine\u001b[0m\u001b[0;34m.\u001b[0m\u001b[0mget_loc\u001b[0m\u001b[0;34m(\u001b[0m\u001b[0mkey\u001b[0m\u001b[0;34m)\u001b[0m\u001b[0;34m\u001b[0m\u001b[0;34m\u001b[0m\u001b[0m\n\u001b[1;32m   2898\u001b[0m             \u001b[0;32mexcept\u001b[0m \u001b[0mKeyError\u001b[0m\u001b[0;34m:\u001b[0m\u001b[0;34m\u001b[0m\u001b[0;34m\u001b[0m\u001b[0m\n\u001b[0;32m-> 2899\u001b[0;31m                 \u001b[0;32mreturn\u001b[0m \u001b[0mself\u001b[0m\u001b[0;34m.\u001b[0m\u001b[0m_engine\u001b[0m\u001b[0;34m.\u001b[0m\u001b[0mget_loc\u001b[0m\u001b[0;34m(\u001b[0m\u001b[0mself\u001b[0m\u001b[0;34m.\u001b[0m\u001b[0m_maybe_cast_indexer\u001b[0m\u001b[0;34m(\u001b[0m\u001b[0mkey\u001b[0m\u001b[0;34m)\u001b[0m\u001b[0;34m)\u001b[0m\u001b[0;34m\u001b[0m\u001b[0;34m\u001b[0m\u001b[0m\n\u001b[0m\u001b[1;32m   2900\u001b[0m         \u001b[0mindexer\u001b[0m \u001b[0;34m=\u001b[0m \u001b[0mself\u001b[0m\u001b[0;34m.\u001b[0m\u001b[0mget_indexer\u001b[0m\u001b[0;34m(\u001b[0m\u001b[0;34m[\u001b[0m\u001b[0mkey\u001b[0m\u001b[0;34m]\u001b[0m\u001b[0;34m,\u001b[0m \u001b[0mmethod\u001b[0m\u001b[0;34m=\u001b[0m\u001b[0mmethod\u001b[0m\u001b[0;34m,\u001b[0m \u001b[0mtolerance\u001b[0m\u001b[0;34m=\u001b[0m\u001b[0mtolerance\u001b[0m\u001b[0;34m)\u001b[0m\u001b[0;34m\u001b[0m\u001b[0;34m\u001b[0m\u001b[0m\n\u001b[1;32m   2901\u001b[0m         \u001b[0;32mif\u001b[0m \u001b[0mindexer\u001b[0m\u001b[0;34m.\u001b[0m\u001b[0mndim\u001b[0m \u001b[0;34m>\u001b[0m \u001b[0;36m1\u001b[0m \u001b[0;32mor\u001b[0m \u001b[0mindexer\u001b[0m\u001b[0;34m.\u001b[0m\u001b[0msize\u001b[0m \u001b[0;34m>\u001b[0m \u001b[0;36m1\u001b[0m\u001b[0;34m:\u001b[0m\u001b[0;34m\u001b[0m\u001b[0;34m\u001b[0m\u001b[0m\n",
      "\u001b[0;32mpandas/_libs/index.pyx\u001b[0m in \u001b[0;36mpandas._libs.index.IndexEngine.get_loc\u001b[0;34m()\u001b[0m\n",
      "\u001b[0;32mpandas/_libs/index.pyx\u001b[0m in \u001b[0;36mpandas._libs.index.IndexEngine.get_loc\u001b[0;34m()\u001b[0m\n",
      "\u001b[0;32mpandas/_libs/hashtable_class_helper.pxi\u001b[0m in \u001b[0;36mpandas._libs.hashtable.PyObjectHashTable.get_item\u001b[0;34m()\u001b[0m\n",
      "\u001b[0;32mpandas/_libs/hashtable_class_helper.pxi\u001b[0m in \u001b[0;36mpandas._libs.hashtable.PyObjectHashTable.get_item\u001b[0;34m()\u001b[0m\n",
      "\u001b[0;31mKeyError\u001b[0m: 'NRI'"
     ]
    }
   ],
   "source": [
    "# your code here\n",
    "df_usa['NRI'].max()\n",
    "df_temp['Year']"
   ]
  },
  {
   "cell_type": "code",
   "execution_count": null,
   "metadata": {},
   "outputs": [],
   "source": []
  }
 ],
 "metadata": {
  "anaconda-cloud": {},
  "kernelspec": {
   "display_name": "Python 3",
   "language": "python",
   "name": "python3"
  },
  "language_info": {
   "codemirror_mode": {
    "name": "ipython",
    "version": 3
   },
   "file_extension": ".py",
   "mimetype": "text/x-python",
   "name": "python",
   "nbconvert_exporter": "python",
   "pygments_lexer": "ipython3",
   "version": "3.7.4"
  }
 },
 "nbformat": 4,
 "nbformat_minor": 4
}
